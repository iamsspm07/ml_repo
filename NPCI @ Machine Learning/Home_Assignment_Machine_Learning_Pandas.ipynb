{
  "cells": [
    {
      "cell_type": "markdown",
      "metadata": {
        "id": "GHx209vkCRGY"
      },
      "source": [
        "## **Dataset**\n",
        "\n",
        "In this Experiment you will be using movies dataset. The dataset contains 77 rows and 8 columns. The columns are as follows:\n",
        "\n",
        "* Film\n",
        "* Genre\n",
        "     - Romance, Comedy, Drama, Animation, Fantasy, Action\n",
        "* Lead Studio\n",
        "* Audience score in percentage\n",
        "* Profitability\n",
        "* Rotten Tomatoes in percentage\n",
        "* Worldwide Gross\n",
        "* Year"
      ]
    },
    {
      "cell_type": "markdown",
      "source": [
        "## **Exercises**"
      ],
      "metadata": {
        "id": "osYxN7qVTZX3"
      }
    },
    {
      "cell_type": "code",
      "execution_count": null,
      "metadata": {
        "id": "2jTSLqT4EHSk"
      },
      "outputs": [],
      "source": [
        "import pandas as pd"
      ]
    },
    {
      "cell_type": "code",
      "execution_count": null,
      "metadata": {
        "id": "OjI4lOVmERN5"
      },
      "outputs": [],
      "source": [
        "moviesdata = pd.read_csv(\"/content/movies - movies.csv.csv\")"
      ]
    },
    {
      "cell_type": "code",
      "execution_count": null,
      "metadata": {
        "id": "Cz3cDaw2F_Fb",
        "colab": {
          "base_uri": "https://localhost:8080/",
          "height": 206
        },
        "outputId": "8dac2aa1-46cf-4bbb-8f3d-de426052ab0a"
      },
      "outputs": [
        {
          "output_type": "execute_result",
          "data": {
            "text/plain": [
              "                                 Film    Genre            Lead Studio  \\\n",
              "0          Zack and Miri Make a Porno  Romance  The Weinstein Company   \n",
              "1                     Youth in Revolt   Comedy  The Weinstein Company   \n",
              "2  You Will Meet a Tall Dark Stranger   Comedy            Independent   \n",
              "3                        When in Rome   Comedy                 Disney   \n",
              "4               What Happens in Vegas   Comedy                    Fox   \n",
              "\n",
              "   Audience score %  Profitability  Rotten Tomatoes % Worldwide Gross  Year  \n",
              "0                70       1.747542                 64          $41.94  2008  \n",
              "1                52       1.090000                 68          $19.62  2010  \n",
              "2                35       1.211818                 43          $26.66  2010  \n",
              "3                44       0.000000                 15          $43.04  2010  \n",
              "4                72       6.267647                 28         $219.37  2008  "
            ],
            "text/html": [
              "\n",
              "  <div id=\"df-7a3ff1d3-7891-4260-8d3b-92bd59465764\">\n",
              "    <div class=\"colab-df-container\">\n",
              "      <div>\n",
              "<style scoped>\n",
              "    .dataframe tbody tr th:only-of-type {\n",
              "        vertical-align: middle;\n",
              "    }\n",
              "\n",
              "    .dataframe tbody tr th {\n",
              "        vertical-align: top;\n",
              "    }\n",
              "\n",
              "    .dataframe thead th {\n",
              "        text-align: right;\n",
              "    }\n",
              "</style>\n",
              "<table border=\"1\" class=\"dataframe\">\n",
              "  <thead>\n",
              "    <tr style=\"text-align: right;\">\n",
              "      <th></th>\n",
              "      <th>Film</th>\n",
              "      <th>Genre</th>\n",
              "      <th>Lead Studio</th>\n",
              "      <th>Audience score %</th>\n",
              "      <th>Profitability</th>\n",
              "      <th>Rotten Tomatoes %</th>\n",
              "      <th>Worldwide Gross</th>\n",
              "      <th>Year</th>\n",
              "    </tr>\n",
              "  </thead>\n",
              "  <tbody>\n",
              "    <tr>\n",
              "      <th>0</th>\n",
              "      <td>Zack and Miri Make a Porno</td>\n",
              "      <td>Romance</td>\n",
              "      <td>The Weinstein Company</td>\n",
              "      <td>70</td>\n",
              "      <td>1.747542</td>\n",
              "      <td>64</td>\n",
              "      <td>$41.94</td>\n",
              "      <td>2008</td>\n",
              "    </tr>\n",
              "    <tr>\n",
              "      <th>1</th>\n",
              "      <td>Youth in Revolt</td>\n",
              "      <td>Comedy</td>\n",
              "      <td>The Weinstein Company</td>\n",
              "      <td>52</td>\n",
              "      <td>1.090000</td>\n",
              "      <td>68</td>\n",
              "      <td>$19.62</td>\n",
              "      <td>2010</td>\n",
              "    </tr>\n",
              "    <tr>\n",
              "      <th>2</th>\n",
              "      <td>You Will Meet a Tall Dark Stranger</td>\n",
              "      <td>Comedy</td>\n",
              "      <td>Independent</td>\n",
              "      <td>35</td>\n",
              "      <td>1.211818</td>\n",
              "      <td>43</td>\n",
              "      <td>$26.66</td>\n",
              "      <td>2010</td>\n",
              "    </tr>\n",
              "    <tr>\n",
              "      <th>3</th>\n",
              "      <td>When in Rome</td>\n",
              "      <td>Comedy</td>\n",
              "      <td>Disney</td>\n",
              "      <td>44</td>\n",
              "      <td>0.000000</td>\n",
              "      <td>15</td>\n",
              "      <td>$43.04</td>\n",
              "      <td>2010</td>\n",
              "    </tr>\n",
              "    <tr>\n",
              "      <th>4</th>\n",
              "      <td>What Happens in Vegas</td>\n",
              "      <td>Comedy</td>\n",
              "      <td>Fox</td>\n",
              "      <td>72</td>\n",
              "      <td>6.267647</td>\n",
              "      <td>28</td>\n",
              "      <td>$219.37</td>\n",
              "      <td>2008</td>\n",
              "    </tr>\n",
              "  </tbody>\n",
              "</table>\n",
              "</div>\n",
              "      <button class=\"colab-df-convert\" onclick=\"convertToInteractive('df-7a3ff1d3-7891-4260-8d3b-92bd59465764')\"\n",
              "              title=\"Convert this dataframe to an interactive table.\"\n",
              "              style=\"display:none;\">\n",
              "        \n",
              "  <svg xmlns=\"http://www.w3.org/2000/svg\" height=\"24px\"viewBox=\"0 0 24 24\"\n",
              "       width=\"24px\">\n",
              "    <path d=\"M0 0h24v24H0V0z\" fill=\"none\"/>\n",
              "    <path d=\"M18.56 5.44l.94 2.06.94-2.06 2.06-.94-2.06-.94-.94-2.06-.94 2.06-2.06.94zm-11 1L8.5 8.5l.94-2.06 2.06-.94-2.06-.94L8.5 2.5l-.94 2.06-2.06.94zm10 10l.94 2.06.94-2.06 2.06-.94-2.06-.94-.94-2.06-.94 2.06-2.06.94z\"/><path d=\"M17.41 7.96l-1.37-1.37c-.4-.4-.92-.59-1.43-.59-.52 0-1.04.2-1.43.59L10.3 9.45l-7.72 7.72c-.78.78-.78 2.05 0 2.83L4 21.41c.39.39.9.59 1.41.59.51 0 1.02-.2 1.41-.59l7.78-7.78 2.81-2.81c.8-.78.8-2.07 0-2.86zM5.41 20L4 18.59l7.72-7.72 1.47 1.35L5.41 20z\"/>\n",
              "  </svg>\n",
              "      </button>\n",
              "      \n",
              "  <style>\n",
              "    .colab-df-container {\n",
              "      display:flex;\n",
              "      flex-wrap:wrap;\n",
              "      gap: 12px;\n",
              "    }\n",
              "\n",
              "    .colab-df-convert {\n",
              "      background-color: #E8F0FE;\n",
              "      border: none;\n",
              "      border-radius: 50%;\n",
              "      cursor: pointer;\n",
              "      display: none;\n",
              "      fill: #1967D2;\n",
              "      height: 32px;\n",
              "      padding: 0 0 0 0;\n",
              "      width: 32px;\n",
              "    }\n",
              "\n",
              "    .colab-df-convert:hover {\n",
              "      background-color: #E2EBFA;\n",
              "      box-shadow: 0px 1px 2px rgba(60, 64, 67, 0.3), 0px 1px 3px 1px rgba(60, 64, 67, 0.15);\n",
              "      fill: #174EA6;\n",
              "    }\n",
              "\n",
              "    [theme=dark] .colab-df-convert {\n",
              "      background-color: #3B4455;\n",
              "      fill: #D2E3FC;\n",
              "    }\n",
              "\n",
              "    [theme=dark] .colab-df-convert:hover {\n",
              "      background-color: #434B5C;\n",
              "      box-shadow: 0px 1px 3px 1px rgba(0, 0, 0, 0.15);\n",
              "      filter: drop-shadow(0px 1px 2px rgba(0, 0, 0, 0.3));\n",
              "      fill: #FFFFFF;\n",
              "    }\n",
              "  </style>\n",
              "\n",
              "      <script>\n",
              "        const buttonEl =\n",
              "          document.querySelector('#df-7a3ff1d3-7891-4260-8d3b-92bd59465764 button.colab-df-convert');\n",
              "        buttonEl.style.display =\n",
              "          google.colab.kernel.accessAllowed ? 'block' : 'none';\n",
              "\n",
              "        async function convertToInteractive(key) {\n",
              "          const element = document.querySelector('#df-7a3ff1d3-7891-4260-8d3b-92bd59465764');\n",
              "          const dataTable =\n",
              "            await google.colab.kernel.invokeFunction('convertToInteractive',\n",
              "                                                     [key], {});\n",
              "          if (!dataTable) return;\n",
              "\n",
              "          const docLinkHtml = 'Like what you see? Visit the ' +\n",
              "            '<a target=\"_blank\" href=https://colab.research.google.com/notebooks/data_table.ipynb>data table notebook</a>'\n",
              "            + ' to learn more about interactive tables.';\n",
              "          element.innerHTML = '';\n",
              "          dataTable['output_type'] = 'display_data';\n",
              "          await google.colab.output.renderOutput(dataTable, element);\n",
              "          const docLink = document.createElement('div');\n",
              "          docLink.innerHTML = docLinkHtml;\n",
              "          element.appendChild(docLink);\n",
              "        }\n",
              "      </script>\n",
              "    </div>\n",
              "  </div>\n",
              "  "
            ]
          },
          "metadata": {},
          "execution_count": 3
        }
      ],
      "source": [
        "moviesdata.head()"
      ]
    },
    {
      "cell_type": "code",
      "source": [
        "moviesdata.tail()"
      ],
      "metadata": {
        "colab": {
          "base_uri": "https://localhost:8080/",
          "height": 206
        },
        "id": "HSLuuID4Co9U",
        "outputId": "9491ea86-3143-4167-db32-819d22a656a3"
      },
      "execution_count": null,
      "outputs": [
        {
          "output_type": "execute_result",
          "data": {
            "text/plain": [
              "                    Film    Genre  Lead Studio  Audience score %  \\\n",
              "72   Across the Universe  romance  Independent                84   \n",
              "73         A Serious Man    Drama    Universal                64   \n",
              "74    A Dangerous Method    Drama  Independent                89   \n",
              "75            27 Dresses   Comedy          Fox                71   \n",
              "76  (500) Days of Summer   comedy          Fox                81   \n",
              "\n",
              "    Profitability  Rotten Tomatoes % Worldwide Gross  Year  \n",
              "72       0.652603                 54          $29.37  2007  \n",
              "73       4.382857                 89          $30.68  2009  \n",
              "74       0.448645                 79           $8.97  2011  \n",
              "75       5.343622                 40         $160.31  2008  \n",
              "76       8.096000                 87          $60.72  2009  "
            ],
            "text/html": [
              "\n",
              "  <div id=\"df-2eb8ec5d-dcd6-4240-955b-7d7328396095\">\n",
              "    <div class=\"colab-df-container\">\n",
              "      <div>\n",
              "<style scoped>\n",
              "    .dataframe tbody tr th:only-of-type {\n",
              "        vertical-align: middle;\n",
              "    }\n",
              "\n",
              "    .dataframe tbody tr th {\n",
              "        vertical-align: top;\n",
              "    }\n",
              "\n",
              "    .dataframe thead th {\n",
              "        text-align: right;\n",
              "    }\n",
              "</style>\n",
              "<table border=\"1\" class=\"dataframe\">\n",
              "  <thead>\n",
              "    <tr style=\"text-align: right;\">\n",
              "      <th></th>\n",
              "      <th>Film</th>\n",
              "      <th>Genre</th>\n",
              "      <th>Lead Studio</th>\n",
              "      <th>Audience score %</th>\n",
              "      <th>Profitability</th>\n",
              "      <th>Rotten Tomatoes %</th>\n",
              "      <th>Worldwide Gross</th>\n",
              "      <th>Year</th>\n",
              "    </tr>\n",
              "  </thead>\n",
              "  <tbody>\n",
              "    <tr>\n",
              "      <th>72</th>\n",
              "      <td>Across the Universe</td>\n",
              "      <td>romance</td>\n",
              "      <td>Independent</td>\n",
              "      <td>84</td>\n",
              "      <td>0.652603</td>\n",
              "      <td>54</td>\n",
              "      <td>$29.37</td>\n",
              "      <td>2007</td>\n",
              "    </tr>\n",
              "    <tr>\n",
              "      <th>73</th>\n",
              "      <td>A Serious Man</td>\n",
              "      <td>Drama</td>\n",
              "      <td>Universal</td>\n",
              "      <td>64</td>\n",
              "      <td>4.382857</td>\n",
              "      <td>89</td>\n",
              "      <td>$30.68</td>\n",
              "      <td>2009</td>\n",
              "    </tr>\n",
              "    <tr>\n",
              "      <th>74</th>\n",
              "      <td>A Dangerous Method</td>\n",
              "      <td>Drama</td>\n",
              "      <td>Independent</td>\n",
              "      <td>89</td>\n",
              "      <td>0.448645</td>\n",
              "      <td>79</td>\n",
              "      <td>$8.97</td>\n",
              "      <td>2011</td>\n",
              "    </tr>\n",
              "    <tr>\n",
              "      <th>75</th>\n",
              "      <td>27 Dresses</td>\n",
              "      <td>Comedy</td>\n",
              "      <td>Fox</td>\n",
              "      <td>71</td>\n",
              "      <td>5.343622</td>\n",
              "      <td>40</td>\n",
              "      <td>$160.31</td>\n",
              "      <td>2008</td>\n",
              "    </tr>\n",
              "    <tr>\n",
              "      <th>76</th>\n",
              "      <td>(500) Days of Summer</td>\n",
              "      <td>comedy</td>\n",
              "      <td>Fox</td>\n",
              "      <td>81</td>\n",
              "      <td>8.096000</td>\n",
              "      <td>87</td>\n",
              "      <td>$60.72</td>\n",
              "      <td>2009</td>\n",
              "    </tr>\n",
              "  </tbody>\n",
              "</table>\n",
              "</div>\n",
              "      <button class=\"colab-df-convert\" onclick=\"convertToInteractive('df-2eb8ec5d-dcd6-4240-955b-7d7328396095')\"\n",
              "              title=\"Convert this dataframe to an interactive table.\"\n",
              "              style=\"display:none;\">\n",
              "        \n",
              "  <svg xmlns=\"http://www.w3.org/2000/svg\" height=\"24px\"viewBox=\"0 0 24 24\"\n",
              "       width=\"24px\">\n",
              "    <path d=\"M0 0h24v24H0V0z\" fill=\"none\"/>\n",
              "    <path d=\"M18.56 5.44l.94 2.06.94-2.06 2.06-.94-2.06-.94-.94-2.06-.94 2.06-2.06.94zm-11 1L8.5 8.5l.94-2.06 2.06-.94-2.06-.94L8.5 2.5l-.94 2.06-2.06.94zm10 10l.94 2.06.94-2.06 2.06-.94-2.06-.94-.94-2.06-.94 2.06-2.06.94z\"/><path d=\"M17.41 7.96l-1.37-1.37c-.4-.4-.92-.59-1.43-.59-.52 0-1.04.2-1.43.59L10.3 9.45l-7.72 7.72c-.78.78-.78 2.05 0 2.83L4 21.41c.39.39.9.59 1.41.59.51 0 1.02-.2 1.41-.59l7.78-7.78 2.81-2.81c.8-.78.8-2.07 0-2.86zM5.41 20L4 18.59l7.72-7.72 1.47 1.35L5.41 20z\"/>\n",
              "  </svg>\n",
              "      </button>\n",
              "      \n",
              "  <style>\n",
              "    .colab-df-container {\n",
              "      display:flex;\n",
              "      flex-wrap:wrap;\n",
              "      gap: 12px;\n",
              "    }\n",
              "\n",
              "    .colab-df-convert {\n",
              "      background-color: #E8F0FE;\n",
              "      border: none;\n",
              "      border-radius: 50%;\n",
              "      cursor: pointer;\n",
              "      display: none;\n",
              "      fill: #1967D2;\n",
              "      height: 32px;\n",
              "      padding: 0 0 0 0;\n",
              "      width: 32px;\n",
              "    }\n",
              "\n",
              "    .colab-df-convert:hover {\n",
              "      background-color: #E2EBFA;\n",
              "      box-shadow: 0px 1px 2px rgba(60, 64, 67, 0.3), 0px 1px 3px 1px rgba(60, 64, 67, 0.15);\n",
              "      fill: #174EA6;\n",
              "    }\n",
              "\n",
              "    [theme=dark] .colab-df-convert {\n",
              "      background-color: #3B4455;\n",
              "      fill: #D2E3FC;\n",
              "    }\n",
              "\n",
              "    [theme=dark] .colab-df-convert:hover {\n",
              "      background-color: #434B5C;\n",
              "      box-shadow: 0px 1px 3px 1px rgba(0, 0, 0, 0.15);\n",
              "      filter: drop-shadow(0px 1px 2px rgba(0, 0, 0, 0.3));\n",
              "      fill: #FFFFFF;\n",
              "    }\n",
              "  </style>\n",
              "\n",
              "      <script>\n",
              "        const buttonEl =\n",
              "          document.querySelector('#df-2eb8ec5d-dcd6-4240-955b-7d7328396095 button.colab-df-convert');\n",
              "        buttonEl.style.display =\n",
              "          google.colab.kernel.accessAllowed ? 'block' : 'none';\n",
              "\n",
              "        async function convertToInteractive(key) {\n",
              "          const element = document.querySelector('#df-2eb8ec5d-dcd6-4240-955b-7d7328396095');\n",
              "          const dataTable =\n",
              "            await google.colab.kernel.invokeFunction('convertToInteractive',\n",
              "                                                     [key], {});\n",
              "          if (!dataTable) return;\n",
              "\n",
              "          const docLinkHtml = 'Like what you see? Visit the ' +\n",
              "            '<a target=\"_blank\" href=https://colab.research.google.com/notebooks/data_table.ipynb>data table notebook</a>'\n",
              "            + ' to learn more about interactive tables.';\n",
              "          element.innerHTML = '';\n",
              "          dataTable['output_type'] = 'display_data';\n",
              "          await google.colab.output.renderOutput(dataTable, element);\n",
              "          const docLink = document.createElement('div');\n",
              "          docLink.innerHTML = docLinkHtml;\n",
              "          element.appendChild(docLink);\n",
              "        }\n",
              "      </script>\n",
              "    </div>\n",
              "  </div>\n",
              "  "
            ]
          },
          "metadata": {},
          "execution_count": 26
        }
      ]
    },
    {
      "cell_type": "markdown",
      "metadata": {
        "id": "7lFxb7yqFOCn"
      },
      "source": [
        "### Exercises 1: How many movies are listed in the moviesdata dataframe?"
      ]
    },
    {
      "cell_type": "code",
      "execution_count": null,
      "metadata": {
        "id": "Id6nA4idFZUH",
        "colab": {
          "base_uri": "https://localhost:8080/"
        },
        "outputId": "007826ce-aea7-4a57-f434-ed2b14f280df"
      },
      "outputs": [
        {
          "output_type": "stream",
          "name": "stdout",
          "text": [
            "(77,)\n",
            "Movies Listed:  75\n"
          ]
        }
      ],
      "source": [
        "total = moviesdata['Film'].nunique()\n",
        "\n",
        "totals = moviesdata['Film'].shape\n",
        "print(totals)\n",
        "print(\"Movies Listed: \",total)"
      ]
    },
    {
      "cell_type": "markdown",
      "metadata": {
        "id": "951to2E3Fzqt"
      },
      "source": [
        "### Exercises 2: How many movies were made in the year 2009?"
      ]
    },
    {
      "cell_type": "code",
      "execution_count": null,
      "metadata": {
        "id": "mujshh9uEgFz",
        "colab": {
          "base_uri": "https://localhost:8080/"
        },
        "outputId": "a910e34b-4fb0-4803-e398-cf7b85e6c841"
      },
      "outputs": [
        {
          "output_type": "stream",
          "name": "stdout",
          "text": [
            "Movie Made in Year 2009:  (12, 8)\n",
            "2008    20\n",
            "2010    20\n",
            "2011    14\n",
            "2009    12\n",
            "2007    11\n",
            "Name: Year, dtype: int64\n"
          ]
        }
      ],
      "source": [
        "group = moviesdata.groupby('Year').get_group(2009).shape\n",
        "grp = moviesdata['Year'].value_counts()\n",
        "print(\"Movie Made in Year 2009: \",group)\n",
        "print(grp)"
      ]
    },
    {
      "cell_type": "markdown",
      "metadata": {
        "id": "lNhxrJbhFBDC"
      },
      "source": [
        "### Exercises 3: Which year saw the most films released?"
      ]
    },
    {
      "cell_type": "code",
      "execution_count": null,
      "metadata": {
        "id": "hP6hZLJUSW03",
        "colab": {
          "base_uri": "https://localhost:8080/"
        },
        "outputId": "e785beb8-9603-49c5-b601-fb639c85e0e3"
      },
      "outputs": [
        {
          "output_type": "stream",
          "name": "stdout",
          "text": [
            "20\n"
          ]
        }
      ],
      "source": [
        "\n",
        "max = moviesdata['Year'].value_counts().max()\n",
        "print(max)\n"
      ]
    },
    {
      "cell_type": "markdown",
      "metadata": {
        "id": "lfA0jgISGGfx"
      },
      "source": [
        "### Exercises 4: How many movies were made from 2010 through 2011?"
      ]
    },
    {
      "cell_type": "code",
      "execution_count": null,
      "metadata": {
        "id": "GT87nhGUGKqs",
        "colab": {
          "base_uri": "https://localhost:8080/"
        },
        "outputId": "b338314c-7237-404d-f706-ed336f7c875d"
      },
      "outputs": [
        {
          "output_type": "stream",
          "name": "stdout",
          "text": [
            "34\n"
          ]
        }
      ],
      "source": [
        "movi = moviesdata['Year'].value_counts()\n",
        "prt = movi[2010] + movi[2011]\n",
        "print(prt)"
      ]
    },
    {
      "cell_type": "markdown",
      "metadata": {
        "id": "rERFAv1xGy4x"
      },
      "source": [
        "### Exercises 5: In Genre column, sometimes Comedy is spelled as Comdy, comedy and Romance is spelled as romance, Romence. Replace all the misspelt words with correct words"
      ]
    },
    {
      "cell_type": "code",
      "execution_count": null,
      "metadata": {
        "id": "8SVeciUSGyPv"
      },
      "outputs": [],
      "source": [
        "moviesdata['Genre'].replace(['Comdy','comedy'],'Comedy',inplace=True)\n",
        "\n",
        "moviesdata['Genre'].replace({'romance':'Romance','romence': 'Romance'},inplace=True)"
      ]
    },
    {
      "cell_type": "code",
      "source": [
        "moviesdata['Genre'] == 'Romance'"
      ],
      "metadata": {
        "colab": {
          "base_uri": "https://localhost:8080/"
        },
        "id": "HB7ZXcJphNrJ",
        "outputId": "91d1d375-845a-4675-9890-72519da42e72"
      },
      "execution_count": null,
      "outputs": [
        {
          "output_type": "execute_result",
          "data": {
            "text/plain": [
              "0      True\n",
              "1     False\n",
              "2     False\n",
              "3     False\n",
              "4     False\n",
              "      ...  \n",
              "72     True\n",
              "73    False\n",
              "74    False\n",
              "75    False\n",
              "76    False\n",
              "Name: Genre, Length: 77, dtype: bool"
            ]
          },
          "metadata": {},
          "execution_count": 26
        }
      ]
    },
    {
      "cell_type": "markdown",
      "metadata": {
        "id": "XotWOMJ_IJPF"
      },
      "source": [
        "### Exercises 6: How many Comedy Genre movies has release in 2009?"
      ]
    },
    {
      "cell_type": "code",
      "execution_count": null,
      "metadata": {
        "id": "5uUubE70GOWL",
        "colab": {
          "base_uri": "https://localhost:8080/"
        },
        "outputId": "14f3b4a3-f689-49ed-9861-98e554433848"
      },
      "outputs": [
        {
          "output_type": "stream",
          "name": "stdout",
          "text": [
            "7\n"
          ]
        }
      ],
      "source": [
        "movie_year = moviesdata[(moviesdata['Genre'] == 'Comedy') & (moviesdata['Year'] == 2009)]\n",
        "num = movie_year['Film'].nunique()\n",
        "print(num)"
      ]
    },
    {
      "cell_type": "markdown",
      "metadata": {
        "id": "j-zcJYfdPiG3"
      },
      "source": [
        "### Exercises 7: Which year as the most number of Romance Genre Movies releases?"
      ]
    },
    {
      "cell_type": "code",
      "execution_count": null,
      "metadata": {
        "id": "28nVARnJIdnJ",
        "colab": {
          "base_uri": "https://localhost:8080/"
        },
        "outputId": "a32c751e-bf9b-456a-fe56-c60f65bb4340"
      },
      "outputs": [
        {
          "output_type": "stream",
          "name": "stdout",
          "text": [
            "   index  Year\n",
            "0   2011     7\n",
            "1   2007     5\n",
            "2   2008     2\n",
            "Year Most Romance Movie:  2011\n"
          ]
        }
      ],
      "source": [
        "mk = moviesdata[moviesdata['Genre'] == \"Romance\"]\n",
        "mk1 = mk['Year'].value_counts().to_frame().reset_index()\n",
        "mk2 = mk1['index'].max()\n",
        "print(mk1)\n",
        "print(\"Year Most Romance Movie: \",mk2)"
      ]
    },
    {
      "cell_type": "markdown",
      "metadata": {
        "id": "QxEtNLKoQGKq"
      },
      "source": [
        "### Exercises 8: How many films are made by Sony Lead Studio?"
      ]
    },
    {
      "cell_type": "code",
      "execution_count": null,
      "metadata": {
        "id": "def6pUxHPxd-"
      },
      "outputs": [],
      "source": [
        "sony = moviesdata[moviesdata['Lead Studio'] == 'Sony']\n",
        "print(sony)\n"
      ]
    },
    {
      "cell_type": "code",
      "source": [
        "moviesdata[moviesdata['Lead Studio'] == 'Sony']"
      ],
      "metadata": {
        "colab": {
          "base_uri": "https://localhost:8080/",
          "height": 175
        },
        "id": "87iDAsoinxOi",
        "outputId": "8ee4a36b-86d5-4683-f61c-1dc274d96214"
      },
      "execution_count": null,
      "outputs": [
        {
          "output_type": "execute_result",
          "data": {
            "text/plain": [
              "                                  Film    Genre Lead Studio  Audience score %  \\\n",
              "37  Nick and Norah's Infinite Playlist   Comedy        Sony                67   \n",
              "43                   Midnight in Paris  Romence        Sony                84   \n",
              "47                       Made of Honor   Comedy        Sony                61   \n",
              "70                           Dear John    Drama        Sony                66   \n",
              "\n",
              "    Profitability  Rotten Tomatoes % Worldwide Gross  Year  \n",
              "37       3.352729                 73          $33.53  2008  \n",
              "43       8.744706                 93         $148.66  2011  \n",
              "47       2.649068                 13         $105.96  2008  \n",
              "70       4.598800                 29         $114.97  2010  "
            ],
            "text/html": [
              "\n",
              "  <div id=\"df-dc247671-4708-4569-88e4-b5f39ae64b65\">\n",
              "    <div class=\"colab-df-container\">\n",
              "      <div>\n",
              "<style scoped>\n",
              "    .dataframe tbody tr th:only-of-type {\n",
              "        vertical-align: middle;\n",
              "    }\n",
              "\n",
              "    .dataframe tbody tr th {\n",
              "        vertical-align: top;\n",
              "    }\n",
              "\n",
              "    .dataframe thead th {\n",
              "        text-align: right;\n",
              "    }\n",
              "</style>\n",
              "<table border=\"1\" class=\"dataframe\">\n",
              "  <thead>\n",
              "    <tr style=\"text-align: right;\">\n",
              "      <th></th>\n",
              "      <th>Film</th>\n",
              "      <th>Genre</th>\n",
              "      <th>Lead Studio</th>\n",
              "      <th>Audience score %</th>\n",
              "      <th>Profitability</th>\n",
              "      <th>Rotten Tomatoes %</th>\n",
              "      <th>Worldwide Gross</th>\n",
              "      <th>Year</th>\n",
              "    </tr>\n",
              "  </thead>\n",
              "  <tbody>\n",
              "    <tr>\n",
              "      <th>37</th>\n",
              "      <td>Nick and Norah's Infinite Playlist</td>\n",
              "      <td>Comedy</td>\n",
              "      <td>Sony</td>\n",
              "      <td>67</td>\n",
              "      <td>3.352729</td>\n",
              "      <td>73</td>\n",
              "      <td>$33.53</td>\n",
              "      <td>2008</td>\n",
              "    </tr>\n",
              "    <tr>\n",
              "      <th>43</th>\n",
              "      <td>Midnight in Paris</td>\n",
              "      <td>Romence</td>\n",
              "      <td>Sony</td>\n",
              "      <td>84</td>\n",
              "      <td>8.744706</td>\n",
              "      <td>93</td>\n",
              "      <td>$148.66</td>\n",
              "      <td>2011</td>\n",
              "    </tr>\n",
              "    <tr>\n",
              "      <th>47</th>\n",
              "      <td>Made of Honor</td>\n",
              "      <td>Comedy</td>\n",
              "      <td>Sony</td>\n",
              "      <td>61</td>\n",
              "      <td>2.649068</td>\n",
              "      <td>13</td>\n",
              "      <td>$105.96</td>\n",
              "      <td>2008</td>\n",
              "    </tr>\n",
              "    <tr>\n",
              "      <th>70</th>\n",
              "      <td>Dear John</td>\n",
              "      <td>Drama</td>\n",
              "      <td>Sony</td>\n",
              "      <td>66</td>\n",
              "      <td>4.598800</td>\n",
              "      <td>29</td>\n",
              "      <td>$114.97</td>\n",
              "      <td>2010</td>\n",
              "    </tr>\n",
              "  </tbody>\n",
              "</table>\n",
              "</div>\n",
              "      <button class=\"colab-df-convert\" onclick=\"convertToInteractive('df-dc247671-4708-4569-88e4-b5f39ae64b65')\"\n",
              "              title=\"Convert this dataframe to an interactive table.\"\n",
              "              style=\"display:none;\">\n",
              "        \n",
              "  <svg xmlns=\"http://www.w3.org/2000/svg\" height=\"24px\"viewBox=\"0 0 24 24\"\n",
              "       width=\"24px\">\n",
              "    <path d=\"M0 0h24v24H0V0z\" fill=\"none\"/>\n",
              "    <path d=\"M18.56 5.44l.94 2.06.94-2.06 2.06-.94-2.06-.94-.94-2.06-.94 2.06-2.06.94zm-11 1L8.5 8.5l.94-2.06 2.06-.94-2.06-.94L8.5 2.5l-.94 2.06-2.06.94zm10 10l.94 2.06.94-2.06 2.06-.94-2.06-.94-.94-2.06-.94 2.06-2.06.94z\"/><path d=\"M17.41 7.96l-1.37-1.37c-.4-.4-.92-.59-1.43-.59-.52 0-1.04.2-1.43.59L10.3 9.45l-7.72 7.72c-.78.78-.78 2.05 0 2.83L4 21.41c.39.39.9.59 1.41.59.51 0 1.02-.2 1.41-.59l7.78-7.78 2.81-2.81c.8-.78.8-2.07 0-2.86zM5.41 20L4 18.59l7.72-7.72 1.47 1.35L5.41 20z\"/>\n",
              "  </svg>\n",
              "      </button>\n",
              "      \n",
              "  <style>\n",
              "    .colab-df-container {\n",
              "      display:flex;\n",
              "      flex-wrap:wrap;\n",
              "      gap: 12px;\n",
              "    }\n",
              "\n",
              "    .colab-df-convert {\n",
              "      background-color: #E8F0FE;\n",
              "      border: none;\n",
              "      border-radius: 50%;\n",
              "      cursor: pointer;\n",
              "      display: none;\n",
              "      fill: #1967D2;\n",
              "      height: 32px;\n",
              "      padding: 0 0 0 0;\n",
              "      width: 32px;\n",
              "    }\n",
              "\n",
              "    .colab-df-convert:hover {\n",
              "      background-color: #E2EBFA;\n",
              "      box-shadow: 0px 1px 2px rgba(60, 64, 67, 0.3), 0px 1px 3px 1px rgba(60, 64, 67, 0.15);\n",
              "      fill: #174EA6;\n",
              "    }\n",
              "\n",
              "    [theme=dark] .colab-df-convert {\n",
              "      background-color: #3B4455;\n",
              "      fill: #D2E3FC;\n",
              "    }\n",
              "\n",
              "    [theme=dark] .colab-df-convert:hover {\n",
              "      background-color: #434B5C;\n",
              "      box-shadow: 0px 1px 3px 1px rgba(0, 0, 0, 0.15);\n",
              "      filter: drop-shadow(0px 1px 2px rgba(0, 0, 0, 0.3));\n",
              "      fill: #FFFFFF;\n",
              "    }\n",
              "  </style>\n",
              "\n",
              "      <script>\n",
              "        const buttonEl =\n",
              "          document.querySelector('#df-dc247671-4708-4569-88e4-b5f39ae64b65 button.colab-df-convert');\n",
              "        buttonEl.style.display =\n",
              "          google.colab.kernel.accessAllowed ? 'block' : 'none';\n",
              "\n",
              "        async function convertToInteractive(key) {\n",
              "          const element = document.querySelector('#df-dc247671-4708-4569-88e4-b5f39ae64b65');\n",
              "          const dataTable =\n",
              "            await google.colab.kernel.invokeFunction('convertToInteractive',\n",
              "                                                     [key], {});\n",
              "          if (!dataTable) return;\n",
              "\n",
              "          const docLinkHtml = 'Like what you see? Visit the ' +\n",
              "            '<a target=\"_blank\" href=https://colab.research.google.com/notebooks/data_table.ipynb>data table notebook</a>'\n",
              "            + ' to learn more about interactive tables.';\n",
              "          element.innerHTML = '';\n",
              "          dataTable['output_type'] = 'display_data';\n",
              "          await google.colab.output.renderOutput(dataTable, element);\n",
              "          const docLink = document.createElement('div');\n",
              "          docLink.innerHTML = docLinkHtml;\n",
              "          element.appendChild(docLink);\n",
              "        }\n",
              "      </script>\n",
              "    </div>\n",
              "  </div>\n",
              "  "
            ]
          },
          "metadata": {},
          "execution_count": 49
        }
      ]
    },
    {
      "cell_type": "markdown",
      "metadata": {
        "id": "3uU00yjHQ7xC"
      },
      "source": [
        "### Exercises 9: How many films are having Audience score less than 50 %?"
      ]
    },
    {
      "cell_type": "code",
      "execution_count": null,
      "metadata": {
        "id": "f6KNkSfGP_8o",
        "colab": {
          "base_uri": "https://localhost:8080/"
        },
        "outputId": "d4456976-a479-44be-90c3-9aa720e17cc5"
      },
      "outputs": [
        {
          "output_type": "execute_result",
          "data": {
            "text/plain": [
              "16"
            ]
          },
          "metadata": {},
          "execution_count": 52
        }
      ],
      "source": [
        "aud = moviesdata[moviesdata['Audience score %'] < 50]\n",
        "aud['Film'].nunique()"
      ]
    },
    {
      "cell_type": "markdown",
      "metadata": {
        "id": "gsOE9jyoRUuD"
      },
      "source": [
        "### Exercises 10: Display all the movies done by Universal Lead Studio?"
      ]
    },
    {
      "cell_type": "code",
      "execution_count": null,
      "metadata": {
        "id": "Dqd4XTCLRLh9",
        "colab": {
          "base_uri": "https://localhost:8080/",
          "height": 300
        },
        "outputId": "f6c9951b-f754-4a52-dc19-caaa7efeea08"
      },
      "outputs": [
        {
          "output_type": "execute_result",
          "data": {
            "text/plain": [
              "                Film    Genre Lead Studio  Audience score %  Profitability  \\\n",
              "45        Mamma Mia!   Comedy   Universal                76       9.234454   \n",
              "46        Mamma Mia!   Comedy   Universal                76       9.234454   \n",
              "48      Love Happens    Drama   Universal                40       2.004444   \n",
              "53         Leap Year   Comedy   Universal                49       1.715263   \n",
              "54        Knocked Up   Comedy   Universal                83       6.636402   \n",
              "57         Jane Eyre  Romance   Universal                77       0.000000   \n",
              "58  It's Complicated   Comedy   Universal                63       2.642353   \n",
              "73     A Serious Man    Drama   Universal                64       4.382857   \n",
              "\n",
              "    Rotten Tomatoes % Worldwide Gross  Year  \n",
              "45                 53         $609.47  2008  \n",
              "46                 53         $609.47  2008  \n",
              "48                 18          $36.08  2009  \n",
              "53                 21          $32.59  2010  \n",
              "54                 91            $219  2007  \n",
              "57                 85          $30.15  2011  \n",
              "58                 56         $224.60  2009  \n",
              "73                 89          $30.68  2009  "
            ],
            "text/html": [
              "\n",
              "  <div id=\"df-5c308035-70af-4d12-b4bd-9f72c096cd91\">\n",
              "    <div class=\"colab-df-container\">\n",
              "      <div>\n",
              "<style scoped>\n",
              "    .dataframe tbody tr th:only-of-type {\n",
              "        vertical-align: middle;\n",
              "    }\n",
              "\n",
              "    .dataframe tbody tr th {\n",
              "        vertical-align: top;\n",
              "    }\n",
              "\n",
              "    .dataframe thead th {\n",
              "        text-align: right;\n",
              "    }\n",
              "</style>\n",
              "<table border=\"1\" class=\"dataframe\">\n",
              "  <thead>\n",
              "    <tr style=\"text-align: right;\">\n",
              "      <th></th>\n",
              "      <th>Film</th>\n",
              "      <th>Genre</th>\n",
              "      <th>Lead Studio</th>\n",
              "      <th>Audience score %</th>\n",
              "      <th>Profitability</th>\n",
              "      <th>Rotten Tomatoes %</th>\n",
              "      <th>Worldwide Gross</th>\n",
              "      <th>Year</th>\n",
              "    </tr>\n",
              "  </thead>\n",
              "  <tbody>\n",
              "    <tr>\n",
              "      <th>45</th>\n",
              "      <td>Mamma Mia!</td>\n",
              "      <td>Comedy</td>\n",
              "      <td>Universal</td>\n",
              "      <td>76</td>\n",
              "      <td>9.234454</td>\n",
              "      <td>53</td>\n",
              "      <td>$609.47</td>\n",
              "      <td>2008</td>\n",
              "    </tr>\n",
              "    <tr>\n",
              "      <th>46</th>\n",
              "      <td>Mamma Mia!</td>\n",
              "      <td>Comedy</td>\n",
              "      <td>Universal</td>\n",
              "      <td>76</td>\n",
              "      <td>9.234454</td>\n",
              "      <td>53</td>\n",
              "      <td>$609.47</td>\n",
              "      <td>2008</td>\n",
              "    </tr>\n",
              "    <tr>\n",
              "      <th>48</th>\n",
              "      <td>Love Happens</td>\n",
              "      <td>Drama</td>\n",
              "      <td>Universal</td>\n",
              "      <td>40</td>\n",
              "      <td>2.004444</td>\n",
              "      <td>18</td>\n",
              "      <td>$36.08</td>\n",
              "      <td>2009</td>\n",
              "    </tr>\n",
              "    <tr>\n",
              "      <th>53</th>\n",
              "      <td>Leap Year</td>\n",
              "      <td>Comedy</td>\n",
              "      <td>Universal</td>\n",
              "      <td>49</td>\n",
              "      <td>1.715263</td>\n",
              "      <td>21</td>\n",
              "      <td>$32.59</td>\n",
              "      <td>2010</td>\n",
              "    </tr>\n",
              "    <tr>\n",
              "      <th>54</th>\n",
              "      <td>Knocked Up</td>\n",
              "      <td>Comedy</td>\n",
              "      <td>Universal</td>\n",
              "      <td>83</td>\n",
              "      <td>6.636402</td>\n",
              "      <td>91</td>\n",
              "      <td>$219</td>\n",
              "      <td>2007</td>\n",
              "    </tr>\n",
              "    <tr>\n",
              "      <th>57</th>\n",
              "      <td>Jane Eyre</td>\n",
              "      <td>Romance</td>\n",
              "      <td>Universal</td>\n",
              "      <td>77</td>\n",
              "      <td>0.000000</td>\n",
              "      <td>85</td>\n",
              "      <td>$30.15</td>\n",
              "      <td>2011</td>\n",
              "    </tr>\n",
              "    <tr>\n",
              "      <th>58</th>\n",
              "      <td>It's Complicated</td>\n",
              "      <td>Comedy</td>\n",
              "      <td>Universal</td>\n",
              "      <td>63</td>\n",
              "      <td>2.642353</td>\n",
              "      <td>56</td>\n",
              "      <td>$224.60</td>\n",
              "      <td>2009</td>\n",
              "    </tr>\n",
              "    <tr>\n",
              "      <th>73</th>\n",
              "      <td>A Serious Man</td>\n",
              "      <td>Drama</td>\n",
              "      <td>Universal</td>\n",
              "      <td>64</td>\n",
              "      <td>4.382857</td>\n",
              "      <td>89</td>\n",
              "      <td>$30.68</td>\n",
              "      <td>2009</td>\n",
              "    </tr>\n",
              "  </tbody>\n",
              "</table>\n",
              "</div>\n",
              "      <button class=\"colab-df-convert\" onclick=\"convertToInteractive('df-5c308035-70af-4d12-b4bd-9f72c096cd91')\"\n",
              "              title=\"Convert this dataframe to an interactive table.\"\n",
              "              style=\"display:none;\">\n",
              "        \n",
              "  <svg xmlns=\"http://www.w3.org/2000/svg\" height=\"24px\"viewBox=\"0 0 24 24\"\n",
              "       width=\"24px\">\n",
              "    <path d=\"M0 0h24v24H0V0z\" fill=\"none\"/>\n",
              "    <path d=\"M18.56 5.44l.94 2.06.94-2.06 2.06-.94-2.06-.94-.94-2.06-.94 2.06-2.06.94zm-11 1L8.5 8.5l.94-2.06 2.06-.94-2.06-.94L8.5 2.5l-.94 2.06-2.06.94zm10 10l.94 2.06.94-2.06 2.06-.94-2.06-.94-.94-2.06-.94 2.06-2.06.94z\"/><path d=\"M17.41 7.96l-1.37-1.37c-.4-.4-.92-.59-1.43-.59-.52 0-1.04.2-1.43.59L10.3 9.45l-7.72 7.72c-.78.78-.78 2.05 0 2.83L4 21.41c.39.39.9.59 1.41.59.51 0 1.02-.2 1.41-.59l7.78-7.78 2.81-2.81c.8-.78.8-2.07 0-2.86zM5.41 20L4 18.59l7.72-7.72 1.47 1.35L5.41 20z\"/>\n",
              "  </svg>\n",
              "      </button>\n",
              "      \n",
              "  <style>\n",
              "    .colab-df-container {\n",
              "      display:flex;\n",
              "      flex-wrap:wrap;\n",
              "      gap: 12px;\n",
              "    }\n",
              "\n",
              "    .colab-df-convert {\n",
              "      background-color: #E8F0FE;\n",
              "      border: none;\n",
              "      border-radius: 50%;\n",
              "      cursor: pointer;\n",
              "      display: none;\n",
              "      fill: #1967D2;\n",
              "      height: 32px;\n",
              "      padding: 0 0 0 0;\n",
              "      width: 32px;\n",
              "    }\n",
              "\n",
              "    .colab-df-convert:hover {\n",
              "      background-color: #E2EBFA;\n",
              "      box-shadow: 0px 1px 2px rgba(60, 64, 67, 0.3), 0px 1px 3px 1px rgba(60, 64, 67, 0.15);\n",
              "      fill: #174EA6;\n",
              "    }\n",
              "\n",
              "    [theme=dark] .colab-df-convert {\n",
              "      background-color: #3B4455;\n",
              "      fill: #D2E3FC;\n",
              "    }\n",
              "\n",
              "    [theme=dark] .colab-df-convert:hover {\n",
              "      background-color: #434B5C;\n",
              "      box-shadow: 0px 1px 3px 1px rgba(0, 0, 0, 0.15);\n",
              "      filter: drop-shadow(0px 1px 2px rgba(0, 0, 0, 0.3));\n",
              "      fill: #FFFFFF;\n",
              "    }\n",
              "  </style>\n",
              "\n",
              "      <script>\n",
              "        const buttonEl =\n",
              "          document.querySelector('#df-5c308035-70af-4d12-b4bd-9f72c096cd91 button.colab-df-convert');\n",
              "        buttonEl.style.display =\n",
              "          google.colab.kernel.accessAllowed ? 'block' : 'none';\n",
              "\n",
              "        async function convertToInteractive(key) {\n",
              "          const element = document.querySelector('#df-5c308035-70af-4d12-b4bd-9f72c096cd91');\n",
              "          const dataTable =\n",
              "            await google.colab.kernel.invokeFunction('convertToInteractive',\n",
              "                                                     [key], {});\n",
              "          if (!dataTable) return;\n",
              "\n",
              "          const docLinkHtml = 'Like what you see? Visit the ' +\n",
              "            '<a target=\"_blank\" href=https://colab.research.google.com/notebooks/data_table.ipynb>data table notebook</a>'\n",
              "            + ' to learn more about interactive tables.';\n",
              "          element.innerHTML = '';\n",
              "          dataTable['output_type'] = 'display_data';\n",
              "          await google.colab.output.renderOutput(dataTable, element);\n",
              "          const docLink = document.createElement('div');\n",
              "          docLink.innerHTML = docLinkHtml;\n",
              "          element.appendChild(docLink);\n",
              "        }\n",
              "      </script>\n",
              "    </div>\n",
              "  </div>\n",
              "  "
            ]
          },
          "metadata": {},
          "execution_count": 51
        }
      ],
      "source": [
        "moviesdata[moviesdata['Lead Studio'] == 'Universal']"
      ]
    }
  ],
  "metadata": {
    "colab": {
      "collapsed_sections": [
        "osYxN7qVTZX3"
      ],
      "name": "Home_Assignment_Machine_Learning_Pandas.ipynb",
      "provenance": []
    },
    "kernelspec": {
      "display_name": "Python 3",
      "language": "python",
      "name": "python3"
    },
    "language_info": {
      "codemirror_mode": {
        "name": "ipython",
        "version": 3
      },
      "file_extension": ".py",
      "mimetype": "text/x-python",
      "name": "python",
      "nbconvert_exporter": "python",
      "pygments_lexer": "ipython3",
      "version": "3.7.4"
    }
  },
  "nbformat": 4,
  "nbformat_minor": 0
}