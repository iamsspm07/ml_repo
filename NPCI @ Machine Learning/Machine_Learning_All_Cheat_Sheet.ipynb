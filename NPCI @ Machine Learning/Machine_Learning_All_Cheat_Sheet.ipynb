{
  "cells": [
    {
      "cell_type": "markdown",
      "metadata": {
        "id": "EkYWGtBfsxGY"
      },
      "source": [
        "# ```Steps Considered For Data Scentist and Machine Learning..```"
      ]
    },
    {
      "cell_type": "markdown",
      "metadata": {
        "id": "D-AbL9DutRYv"
      },
      "source": [
        "# ```Step No 1: Import Libraries```"
      ]
    },
    {
      "cell_type": "code",
      "execution_count": null,
      "metadata": {
        "id": "84FK4md3tffb"
      },
      "outputs": [],
      "source": [
        "import numpy as np\n",
        "import pandas as pd\n",
        "import matplotlib.pyplot as plt\n",
        "import seaborn as sns\n",
        "\n",
        "from sklearn.metrics import accuracy_score, f1_score, classification_report, confusion_matrix, roc_auc_score, roc_curve, precision_score, recall_score\n",
        "from sklearn.model_selection import train_test_split\n",
        "from sklearn.tree import DecisionTreeClassifier\n",
        "from sklearn.ensemble import RandomForestClassifier\n",
        "from sklearn.preprocessing import StandardScaler\n",
        "from sklearn.preprocessing import LabelEncoder\n",
        "from sklearn.model_selection import train_test_split\n",
        "from sklearn.neighbors import KNeighborsClassifier\n",
        "from sklearn.linear_model import LogisticRegression\n",
        "from sklearn.svm import SVC\n",
        "from sklearn.metrics import accuracy_score"
      ]
    },
    {
      "cell_type": "markdown",
      "metadata": {
        "id": "f75kLQ41uBJP"
      },
      "source": [
        "# ```Step No 2: Import Data_set as CSV```"
      ]
    },
    {
      "cell_type": "code",
      "execution_count": null,
      "metadata": {
        "id": "GBPYWgWPuWmi"
      },
      "outputs": [],
      "source": [
        "link = \".csv\" # Put file path URL\n",
        "data_set = pd.read_csv(link)"
      ]
    },
    {
      "cell_type": "markdown",
      "metadata": {
        "id": "IpNg5iu4utcO"
      },
      "source": [
        "# ```Step No 3: Cleanng or Missing Data Handling```"
      ]
    },
    {
      "cell_type": "code",
      "execution_count": null,
      "metadata": {
        "id": "6ui0bKvZvAzn"
      },
      "outputs": [],
      "source": [
        "data_set.head()\n",
        "data_set.tail()\n",
        "data_set.descrbe()\n",
        "data_set.info()\n",
        "data_set.isnull()\n",
        "data_set.isnull().sum()\n",
        "..........."
      ]
    },
    {
      "cell_type": "markdown",
      "metadata": {
        "id": "mknVx1ga2_ea"
      },
      "source": [
        "# ```Step No 4: Data Preprocessing```"
      ]
    },
    {
      "cell_type": "code",
      "execution_count": null,
      "metadata": {
        "id": "gXLjFFhw3JGP"
      },
      "outputs": [],
      "source": [
        "data_set.head()\n",
        "data_set.tail()\n",
        "data_set.descrbe()\n",
        "data_set.info()\n",
        "data_set.isnull()\n",
        "data_set.isnull().sum()\n",
        "..........."
      ]
    },
    {
      "cell_type": "markdown",
      "metadata": {
        "id": "rXqU5KiEImxU"
      },
      "source": [
        "# ```Step No 5: Data Visavilazation or Oloting ```"
      ]
    },
    {
      "cell_type": "code",
      "execution_count": null,
      "metadata": {
        "id": "bpKaMgHXI209"
      },
      "outputs": [],
      "source": [
        "mathplotlib, seabons"
      ]
    },
    {
      "cell_type": "markdown",
      "metadata": {
        "id": "RQj6Rul43eVf"
      },
      "source": [
        "#``` Step No 6: Spliting Data as Test and Train Data ```"
      ]
    },
    {
      "cell_type": "code",
      "execution_count": null,
      "metadata": {
        "id": "i78xnEC43tqH"
      },
      "outputs": [],
      "source": [
        "# Without Conversion of String to float # Without error function\n",
        "features = data.drop(['Purchased'], axis=1) # Target Colm remove from feature\n",
        "target = data['Purchased']\n",
        "X_train, X_test, y_train, y_test = train_test_split(features, target, test_size=0.25, random_state=42) # test_size is lke percentage of data to be alloted for test\n",
        "X_train.shape, X_test.shape"
      ]
    },
    {
      "cell_type": "code",
      "execution_count": null,
      "metadata": {
        "id": "2FwOSa8AKmHg"
      },
      "outputs": [],
      "source": [
        "# Without Conversion of String to float # error function\n",
        "features = data_set.drop(['price'], axis=1)\n",
        "target = data_set['price']\n",
        "\n",
        "features = features.apply(pd.to_numeric, errors='coerce')\n",
        "target = target.apply(pd.to_numeric, errors='coerce')\n",
        "\n",
        "features.fillna(0, inplace=True)\n",
        "target.fillna(0, inplace=True)\n",
        "\n",
        "X_train , X_test, y_train , y_test = train_test_split(features, target, test_size=0.3, random_state=42)\n",
        "\n",
        "for each in [X_train , X_test, y_train, y_test]:\n",
        "    print(f\"Shape: {each.shape}\")"
      ]
    },
    {
      "cell_type": "markdown",
      "metadata": {
        "id": "eHWy0soT4azu"
      },
      "source": [
        "# ```Step No 7: Model Implementation```\n",
        "    1. Regression Modal\n",
        "        i. Linear Regression\n",
        "    2. Classification Model\n",
        "        i. Logistic Regression\n",
        "        ii. Select Vactor Machine\n",
        "        iii. K-Nearest Nabour\n",
        "        iv. Decission Tree\n",
        "        v. Random Forest\n",
        "    3. Scalling Function\n"
      ]
    },
    {
      "cell_type": "markdown",
      "metadata": {
        "id": "OZAG2tRRLN5h"
      },
      "source": [
        "```Linear Regression```"
      ]
    },
    {
      "cell_type": "code",
      "execution_count": null,
      "metadata": {
        "id": "PsT7lTTnLTPb"
      },
      "outputs": [],
      "source": [
        "linear_model = LinearRegression()\n",
        "linear_model.fit(X_train, y_train)\n",
        "\n",
        "print(f\"Bias: {linear_model.intercept_}\")\n",
        "print(f\"Weights (m1, m2, ...., mn): \\n\\n{linear_model.coef_}\")\n",
        "\n",
        "train_preds = linear_model.predict(X_train)\n",
        "test_preds = linear_model.predict(X_test)\n",
        "\n",
        "def rmse_calculation(actual_train, pred_train, actual_test, pred_test):\n",
        "    return f\"RMSE Train: {sqrt(mean_squared_error(actual_train , pred_train)):.3f}\\nRMSE Test: {sqrt(mean_squared_error(actual_test , pred_test)):.3f}\"\n",
        "\n",
        "def score_calculation(model, X_train, X_test, y_train , y_test):\n",
        "    return f\"Train Score: {model.score(X_train, y_train)*100:.3f}\\nTest Score: {model.score(X_test, y_test)*100:.3f}\"z\n",
        "\n",
        "print(score_calculation(linear_model, X_train, X_test, y_train, y_test))\n",
        "print('-'*20)\n",
        "print(rmse_calculation(y_train, train_preds, y_test, test_preds))"
      ]
    },
    {
      "cell_type": "markdown",
      "metadata": {
        "id": "9x0d-nkdLs-7"
      },
      "source": [
        "```Logistic Regression```"
      ]
    },
    {
      "cell_type": "code",
      "execution_count": null,
      "metadata": {
        "id": "VaKhVg9ILxaU"
      },
      "outputs": [],
      "source": [
        "logistic_model = LogisticRegression()\n",
        "logistic_model.fit(X_train, y_train)\n",
        "\n",
        "train_preds = logistic_model.predict(X_train)\n",
        "test_preds = logistic_model.predict(X_test)\n",
        "\n",
        "print(f\"Training Accuracy: {accuracy_score(y_train, train_preds) * 100:.2f}%\")\n",
        "print(f\"Testing Accuracy: {accuracy_score(y_test, test_preds) * 100:.2f}%\")"
      ]
    },
    {
      "cell_type": "markdown",
      "metadata": {
        "id": "_Bg6-ECxN-t1"
      },
      "source": [
        "```K-Nearest Nabour```"
      ]
    },
    {
      "cell_type": "code",
      "execution_count": null,
      "metadata": {
        "id": "AOh_1rxpODMs"
      },
      "outputs": [],
      "source": [
        "# K-NN With Passing Range\n",
        "k_range = range(1, 51)\n",
        "train_acc = []\n",
        "test_acc = []\n",
        "for k in k_range:\n",
        "    knn_model = KNeighborsClassifier(n_neighbors=k)\n",
        "    knn_model.fit(X_train, y_train)\n",
        "    train_preds = knn_model.predict(X_train)\n",
        "    test_preds = knn_model.predict(X_test)\n",
        "\n",
        "    train_acc.append(accuracy_score(y_train, train_preds))\n",
        "    test_acc.append(accuracy_score(y_test, test_preds))\n",
        "\n",
        "# Accuracy Plot: Same as all\n",
        "plt.figure(figsize=(20, 8))\n",
        "plt.subplot(121)\n",
        "plt.plot(k_range, train_acc, 'bo-')\n",
        "plt.xlabel('Value of k for KNN')\n",
        "plt.ylabel('Accuracy Score')\n",
        "plt.title('Training Accuracy')\n",
        "\n",
        "plt.subplot(122)\n",
        "plt.plot(k_range, test_acc, 'bo-')\n",
        "plt.xlabel('Value of k for KNN')\n",
        "plt.ylabel('Accuracy Score')\n",
        "plt.title('Testing Accuracy')\n",
        "\n",
        "plt.show()\n",
        "plt.close()"
      ]
    },
    {
      "cell_type": "code",
      "execution_count": null,
      "metadata": {
        "id": "OTNNIniROVsu"
      },
      "outputs": [],
      "source": [
        "# K-NN Without Passing Range\n",
        "knn_model = KNeighborsClassifier(n_neighbors=10)\n",
        "knn_model.fit(X_train, y_train)\n",
        "train_preds = knn_model.predict(X_train)\n",
        "test_preds = knn_model.predict(X_test)\n",
        "\n",
        "print(f\"Training Accuracy: {accuracy_score(y_train, train_preds) * 100:.2f}%\")\n",
        "print(f\"Testing Accuracy: {accuracy_score(y_test, test_preds) * 100:.2f}%\")"
      ]
    },
    {
      "cell_type": "markdown",
      "metadata": {
        "id": "TVrAoy7TQHrn"
      },
      "source": [
        "```Select Vector Machine (SVM)```"
      ]
    },
    {
      "cell_type": "code",
      "execution_count": null,
      "metadata": {
        "id": "3xV0ds2zQIBE"
      },
      "outputs": [],
      "source": [
        "svc_model = SVC(kernel='linear')\n",
        "svc_model.fit(X_train, y_train)\n",
        "\n",
        "train_preds = svc_model.predict(X_train)\n",
        "test_preds = svc_model.predict(X_test)\n",
        "\n",
        "print(f\"Training Accuracy: {accuracy_score(y_train, train_preds) * 100:.2f}%\")\n",
        "print(f\"Testing Accuracy: {accuracy_score(y_test, test_preds) * 100:.2f}%\")"
      ]
    },
    {
      "cell_type": "markdown",
      "metadata": {
        "id": "JGXfK4LnRtRa"
      },
      "source": [
        "```Decession Tree```"
      ]
    },
    {
      "cell_type": "code",
      "execution_count": null,
      "metadata": {
        "id": "vztn61l3Ryny"
      },
      "outputs": [],
      "source": [
        "d_tree_model = DecisionTreeClassifier(max_depth=5, random_state=42)\n",
        "d_tree_model.fit(X_train, y_train)\n",
        "\n",
        "train_preds = d_tree_model.predict(X_train)\n",
        "test_preds = d_tree_model.predict(X_test)\n",
        "\n",
        "print(f\"Train Accuracy: {accuracy_score(y_train, train_preds)*100:.2f}%\")\n",
        "print(f\"Test Accuracy: {accuracy_score(y_test, test_preds)*100:.2f}%\")"
      ]
    },
    {
      "cell_type": "markdown",
      "metadata": {
        "id": "dh4kqidvRzX6"
      },
      "source": [
        "```Random Forest```"
      ]
    },
    {
      "cell_type": "code",
      "execution_count": null,
      "metadata": {
        "id": "wl5aaWcwR2fJ"
      },
      "outputs": [],
      "source": [
        "rf_model = RandomForestClassifier(n_estimators=100, max_depth=5, random_state=42)\n",
        "rf_model.fit(X_train, y_train)\n",
        "\n",
        "train_preds = rf_model.predict(X_train)\n",
        "test_preds = rf_model.predict(X_test)\n",
        "\n",
        "print(f\"Train Accuracy: {accuracy_score(y_train, train_preds)*100:.2f}%\")\n",
        "print(f\"Test Accuracy: {accuracy_score(y_test, test_preds)*100:.2f}%\")"
      ]
    },
    {
      "cell_type": "markdown",
      "metadata": {
        "id": "7rvCdCn6Oy79"
      },
      "source": [
        "# ```Scalling Feature Selection```"
      ]
    },
    {
      "cell_type": "code",
      "execution_count": null,
      "metadata": {
        "id": "Pn2Xvr6bPFrB"
      },
      "outputs": [],
      "source": [
        "from sklearn.preprocessing import StandardScaler\n",
        "\n",
        "scaler = StandardScaler()\n",
        "scaled_X_train = scaler.fit_transform(X_train)\n",
        "scaled_X_test = scaler.transform(X_test)"
      ]
    },
    {
      "cell_type": "markdown",
      "metadata": {
        "id": "RfCLR3PZPQOL"
      },
      "source": [
        "```K-NN With Scalling```"
      ]
    },
    {
      "cell_type": "code",
      "execution_count": null,
      "metadata": {
        "id": "SWj7KHYNPbIj"
      },
      "outputs": [],
      "source": [
        "knn_model = KNeighborsClassifier(n_neighbors=10)\n",
        "knn_model.fit(scaled_X_train, y_train)\n",
        "train_preds = knn_model.predict(scaled_X_train)\n",
        "test_preds = knn_model.predict(scaled_X_test)\n",
        "\n",
        "print(f\"Training Accuracy: {accuracy_score(y_train, train_preds) * 100:.2f}%\")\n",
        "print(f\"Testing Accuracy: {accuracy_score(y_test, test_preds) * 100:.2f}%\")"
      ]
    },
    {
      "cell_type": "markdown",
      "metadata": {
        "id": "Gu8i4QenPiRu"
      },
      "source": [
        "```Select Vactor Machine (SVM) with Scalling```"
      ]
    },
    {
      "cell_type": "code",
      "execution_count": null,
      "metadata": {
        "id": "2If33UmnPg-j"
      },
      "outputs": [],
      "source": [
        "svc_model = SVC(kernel='linear')\n",
        "svc_model.fit(scaled_X_train, y_train)\n",
        "\n",
        "train_preds = svc_model.predict(scaled_X_train)\n",
        "test_preds = svc_model.predict(scaled_X_test)\n",
        "\n",
        "print(f\"Training Accuracy: {accuracy_score(y_train, train_preds) * 100:.2f}%\")\n",
        "print(f\"Testing Accuracy: {accuracy_score(y_test, test_preds) * 100:.2f}%\")\n",
        "\n",
        "# Plotting graph:\n",
        "sns.histplot(scaled_X_train['PetalLengthCm'], bins=25)\n",
        "plt.show()\n",
        "plt.close()"
      ]
    },
    {
      "cell_type": "markdown",
      "metadata": {
        "id": "9u2vxaVQRF2a"
      },
      "source": [
        "```Logistic Regression with Scalling ```"
      ]
    },
    {
      "cell_type": "code",
      "execution_count": null,
      "metadata": {
        "id": "jvp6hh6TRMX6"
      },
      "outputs": [],
      "source": [
        "logistic_model = LogisticRegression()\n",
        "logistic_model.fit(scaled_X_train, y_train)\n",
        "\n",
        "train_preds = logistic_model.predict(scaled_X_train)\n",
        "test_preds = logistic_model.predict(scaled_X_test)\n",
        "\n",
        "print(f\"Training Accuracy: {accuracy_score(y_train, train_preds) * 100:.2f}%\")\n",
        "print(f\"Testing Accuracy: {accuracy_score(y_test, test_preds) * 100:.2f}%\")"
      ]
    },
    {
      "cell_type": "markdown",
      "metadata": {
        "id": "6rYYm895iqiN"
      },
      "source": [
        "#```Graph Ploting```"
      ]
    },
    {
      "cell_type": "markdown",
      "metadata": {
        "id": "gBuTw046hgEX"
      },
      "source": [
        "```Multi Graph with Output Accuracy of all Machine Learning Models```"
      ]
    },
    {
      "cell_type": "code",
      "execution_count": null,
      "metadata": {
        "id": "NZmP6Qhchx-P"
      },
      "outputs": [],
      "source": [
        "movie = pd.DataFrame({\n",
        "\n",
        "    \"Test_Accuracy\": [0.4601615102250698, 0.6594209972794154, 0.6144921004913265, 0.9283567070280343],\n",
        "\n",
        "    \"Train_Accuracy\":[0.6775380127325399,0.9508094064644639,0.9724691328197793,0.9392697110774251]},\n",
        "\n",
        "    index = ['lr', 'rf_model', 'xgb_model', 'dt'])\n",
        "\n",
        "movie.plot(kind=\"bar\",figsize=(15, 8))\n",
        "\n",
        "plt.title('Accuracy Score Table of ML Algorithm')\n",
        "\n",
        "plt.xlabel('Algorithm Models')\n",
        "\n",
        "plt.ylabel('Train/Test Accuracy Values')"
      ]
    },
    {
      "cell_type": "markdown",
      "metadata": {
        "id": "NvxYkRwZ4xRf"
      },
      "source": [
        "```Sngle Bar Plot```"
      ]
    },
    {
      "cell_type": "code",
      "execution_count": null,
      "metadata": {
        "id": "jg_Mn4_Nh6QQ"
      },
      "outputs": [],
      "source": [
        "# Single Bar Graph\n",
        "langs = ['Scala', 'Clojure', 'Java', 'Python', 'Haskell']\n",
        "developers = [24, 15, 33, 44, 12]\n",
        "\n",
        "plt.figure(figsize=(12, 6))\n",
        "plt.bar(langs, developers, color='red', width=0.5)\n",
        "plt.xlabel('Languages')\n",
        "plt.ylabel('No. of Developers')\n",
        "plt.title('Developers in India')\n",
        "plt.show()\n",
        "plt.close()"
      ]
    },
    {
      "cell_type": "markdown",
      "metadata": {
        "id": "ufUpoeXc49qQ"
      },
      "source": [
        "```Histogram Plot```"
      ]
    },
    {
      "cell_type": "code",
      "execution_count": null,
      "metadata": {
        "id": "ZhO2uG7G4pXA"
      },
      "outputs": [],
      "source": [
        "from numpy.random import randn\n",
        "\n",
        "x = randn(1000)\n",
        "x = list(x)\n",
        "x.extend([7.5 for _ in range(7)])\n",
        "x = np.array(x)\n",
        "plt.figure(figsize=(12, 6))\n",
        "plt.hist(x, bins=100)\n",
        "plt.show()\n",
        "plt.close()\n",
        "\n",
        "\n",
        "# Division of histogram\n",
        "percentile_1 = np.percentile(x, 1)\n",
        "percentile_25 = np.percentile(x, 25)\n",
        "percentile_50 = np.percentile(x, 50)\n",
        "percentile_75 = np.percentile(x, 75)\n",
        "percentile_99 = np.percentile(x, 99)\n",
        "plt.figure(figsize=(12, 6))\n",
        "plt.hist(x, bins=100)\n",
        "plt.plot([percentile_1] * 50, [idx for idx in range(50)], 'r-')\n",
        "plt.plot([percentile_25] * 50, [idx for idx in range(50)], 'y-')\n",
        "plt.plot([percentile_50] * 50, [idx for idx in range(50)], 'y-')\n",
        "plt.plot([percentile_75] * 50, [idx for idx in range(50)], 'y-')\n",
        "plt.plot([percentile_99] * 50, [idx for idx in range(50)], 'r-')\n",
        "plt.show()"
      ]
    },
    {
      "cell_type": "markdown",
      "metadata": {
        "id": "1aTKcTZr5Swu"
      },
      "source": [
        "```Box and Whiskers Plot```"
      ]
    },
    {
      "cell_type": "code",
      "execution_count": null,
      "metadata": {
        "id": "nA40s9aN5U0n"
      },
      "outputs": [],
      "source": [
        "plt.figure(figsize=(10, 6))\n",
        "plt.boxplot(x)\n",
        "plt.show()\n",
        "plt.close()\n",
        "\n",
        "np.percentile(x, 25)"
      ]
    },
    {
      "cell_type": "markdown",
      "metadata": {
        "id": "9RZSw0jj5dVe"
      },
      "source": [
        "```Scatter Plot```"
      ]
    },
    {
      "cell_type": "code",
      "execution_count": null,
      "metadata": {
        "id": "Jk-7Ixu05ft2"
      },
      "outputs": [],
      "source": [
        "girls_grades = [89, 90, 70, 89, 100, 80, 90, 100, 80, 34]\n",
        "boys_grades = [30, 29, 49, 48, 100, 48, 38, 45, 20, 30]\n",
        "grades_range = [10, 20, 30, 40, 50, 60, 70, 80, 90, 100]\n",
        "plt.scatter(grades_range, girls_grades, marker='^', color='red', s=250, alpha=0.4)\n",
        "plt.scatter(grades_range, boys_grades, marker='o', color='green', s=70)\n",
        "plt.show()\n",
        "plt.close()\n",
        "\n",
        "# Double \n",
        "plt.figure(figsize=(20, 6))\n",
        "plt.subplot(121)\n",
        "plt.scatter(grades_range, girls_grades, marker='^', color='red')\n",
        "plt.subplot(122)\n",
        "plt.scatter(grades_range, boys_grades, marker='+', color='green')\n",
        "plt.show()\n",
        "plt.close()"
      ]
    },
    {
      "cell_type": "markdown",
      "metadata": {
        "id": "0ARehh8f5rwP"
      },
      "source": [
        "```Other Plots```"
      ]
    },
    {
      "cell_type": "code",
      "execution_count": null,
      "metadata": {
        "id": "pYMMn5BS5xMP"
      },
      "outputs": [],
      "source": [
        "import seaborn as sns\n",
        "\n",
        "sns.distplot(x)\n",
        "plt.show()"
      ]
    },
    {
      "cell_type": "code",
      "execution_count": null,
      "metadata": {
        "id": "Y8gkvJ1c53Vm"
      },
      "outputs": [],
      "source": [
        "y = [1, 4, 9, 16, 25,36,49, 64]\n",
        "x1 = [1, 16, 30, 42,55, 68, 77,88]\n",
        "x2 = [1,6,12,18,28, 40, 52, 65]\n",
        "\n",
        "fig = plt.figure(figsize=(16,5))\n",
        "ax1 = fig.add_subplot(121)\n",
        "l1 = ax1.plot(x1,y,'rs-', label='tv') # solid line with yellow colour and square marker\n",
        "ax1.legend(loc = 'lower right')\n",
        "ax1.set_title(\"Advertisement effect on sales\")\n",
        "ax1.set_xlabel('medium')\n",
        "ax1.set_ylabel('sales')\n",
        "\n",
        "\n",
        "ax2 = fig.add_subplot(122)\n",
        "l2 = ax2.plot(x2,y,'go--', label='Smartphone') # dash line with green colour and circle marker\n",
        "ax2.legend(loc = 'upper left')\n",
        "ax2.set_title(\"Advertisement effect on sales\")\n",
        "ax2.set_xlabel('medium')\n",
        "ax2.set_ylabel('sales')\n",
        "\n",
        "fig1 = plt.figure(figsize=(16,7))\n",
        "ax3 = fig1.add_subplot(111)\n",
        "l1 = ax3.plot(x1,y,'ys-', label='tv') # solid line with yellow colour and square marker\n",
        "l2 = ax3.plot(x2,y,'go--', label='Smartphone') # dash line with green colour and circle marker\n",
        "ax3.legend(loc = 'lower center')\n",
        "ax3.set_title(\"Advertisement effect on sales\")\n",
        "ax3.set_xlabel('medium')\n",
        "ax3.set_ylabel('sales')"
      ]
    }
  ],
  "metadata": {
    "colab": {
      "collapsed_sections": [
        "D-AbL9DutRYv",
        "f75kLQ41uBJP",
        "IpNg5iu4utcO",
        "mknVx1ga2_ea",
        "rXqU5KiEImxU",
        "RQj6Rul43eVf",
        "eHWy0soT4azu",
        "7rvCdCn6Oy79"
      ],
      "name": "Machine_Learning_All_Cheat_Sheet.ipynb",
      "provenance": []
    },
    "kernelspec": {
      "display_name": "Python 3.9.12 ('base')",
      "language": "python",
      "name": "python3"
    },
    "language_info": {
      "name": "python",
      "version": "3.9.12"
    },
    "vscode": {
      "interpreter": {
        "hash": "496f68c13c9621bfdee39ffa5771e475a22bf8af8945a2d7f76071ff8ccc26f7"
      }
    }
  },
  "nbformat": 4,
  "nbformat_minor": 0
}
