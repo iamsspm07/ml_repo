{
  "cells": [
    {
      "cell_type": "markdown",
      "metadata": {
        "id": "D7OaDWAiu4bo"
      },
      "source": [
        "# **Managing Nulls with Pandas**\n",
        "\n",
        "In this notebook, we will take a look at some ways to manage nulls using Pandas DataFrames."
      ]
    },
    {
      "cell_type": "markdown",
      "source": [
        "## Data Loading"
      ],
      "metadata": {
        "id": "N7Zb2YRFvCjR"
      }
    },
    {
      "cell_type": "code",
      "execution_count": null,
      "metadata": {
        "id": "EtcE4Cgpu4bp"
      },
      "outputs": [],
      "source": [
        "import pandas as pd\n",
        "from numpy import random"
      ]
    },
    {
      "cell_type": "code",
      "execution_count": null,
      "metadata": {
        "id": "LN2kTMNfu4bq",
        "colab": {
          "base_uri": "https://localhost:8080/",
          "height": 424
        },
        "outputId": "d39548be-f0b2-47ff-8c83-ee0e2ceade1d"
      },
      "outputs": [
        {
          "output_type": "execute_result",
          "data": {
            "text/plain": [
              "                 timestamp        username  temperature  heartrate  \\\n",
              "0      2017-01-01T12:00:23    michaelsmith         12.0       67.0   \n",
              "1      2017-01-01T12:01:09       kharrison          6.0       78.0   \n",
              "2      2017-01-01T12:01:34       smithadam          5.0       89.0   \n",
              "3      2017-01-01T12:02:09  eddierodriguez         28.0       76.0   \n",
              "4      2017-01-01T12:02:36       kenneth94         29.0       62.0   \n",
              "...                    ...             ...          ...        ...   \n",
              "72018  2017-01-30T07:07:00         jfarmer         22.0       87.0   \n",
              "72019  2017-01-30T07:07:41         epalmer          NaN       67.0   \n",
              "72020  2017-01-30T07:08:09        sandra28         22.0       64.0   \n",
              "72021  2017-01-30T07:08:32        basslisa          NaN       66.0   \n",
              "72022  2017-01-30T07:09:21          tarajo          NaN        NaN   \n",
              "\n",
              "                                      build  latest      note  \n",
              "0      4e6a7805-8faa-2768-6ef6-eb3198b483ac     0.0  interval  \n",
              "1      7256b7b0-e502-f576-62ec-ed73533c9c84     0.0      wake  \n",
              "2      9226c94b-bb4b-a6c8-8e02-cb42b53e9c90     0.0       NaN  \n",
              "3                                       NaN     0.0    update  \n",
              "4      122f1c6a-403c-2221-6ed1-b5caa08f11e0     NaN       NaN  \n",
              "...                                     ...     ...       ...  \n",
              "72018                                   NaN     0.0       NaN  \n",
              "72019  2721f0a2-182a-eda8-5cb8-312f4854b563     NaN       NaN  \n",
              "72020                                   NaN     NaN  interval  \n",
              "72021  251c9a6a-5b8b-b401-4934-d1f02ab4fd62     1.0      test  \n",
              "72022                                   NaN     NaN       NaN  \n",
              "\n",
              "[72023 rows x 7 columns]"
            ],
            "text/html": [
              "\n",
              "  <div id=\"df-67e62c73-92fa-4c57-9502-6747b1f2e7a7\">\n",
              "    <div class=\"colab-df-container\">\n",
              "      <div>\n",
              "<style scoped>\n",
              "    .dataframe tbody tr th:only-of-type {\n",
              "        vertical-align: middle;\n",
              "    }\n",
              "\n",
              "    .dataframe tbody tr th {\n",
              "        vertical-align: top;\n",
              "    }\n",
              "\n",
              "    .dataframe thead th {\n",
              "        text-align: right;\n",
              "    }\n",
              "</style>\n",
              "<table border=\"1\" class=\"dataframe\">\n",
              "  <thead>\n",
              "    <tr style=\"text-align: right;\">\n",
              "      <th></th>\n",
              "      <th>timestamp</th>\n",
              "      <th>username</th>\n",
              "      <th>temperature</th>\n",
              "      <th>heartrate</th>\n",
              "      <th>build</th>\n",
              "      <th>latest</th>\n",
              "      <th>note</th>\n",
              "    </tr>\n",
              "  </thead>\n",
              "  <tbody>\n",
              "    <tr>\n",
              "      <th>0</th>\n",
              "      <td>2017-01-01T12:00:23</td>\n",
              "      <td>michaelsmith</td>\n",
              "      <td>12.0</td>\n",
              "      <td>67.0</td>\n",
              "      <td>4e6a7805-8faa-2768-6ef6-eb3198b483ac</td>\n",
              "      <td>0.0</td>\n",
              "      <td>interval</td>\n",
              "    </tr>\n",
              "    <tr>\n",
              "      <th>1</th>\n",
              "      <td>2017-01-01T12:01:09</td>\n",
              "      <td>kharrison</td>\n",
              "      <td>6.0</td>\n",
              "      <td>78.0</td>\n",
              "      <td>7256b7b0-e502-f576-62ec-ed73533c9c84</td>\n",
              "      <td>0.0</td>\n",
              "      <td>wake</td>\n",
              "    </tr>\n",
              "    <tr>\n",
              "      <th>2</th>\n",
              "      <td>2017-01-01T12:01:34</td>\n",
              "      <td>smithadam</td>\n",
              "      <td>5.0</td>\n",
              "      <td>89.0</td>\n",
              "      <td>9226c94b-bb4b-a6c8-8e02-cb42b53e9c90</td>\n",
              "      <td>0.0</td>\n",
              "      <td>NaN</td>\n",
              "    </tr>\n",
              "    <tr>\n",
              "      <th>3</th>\n",
              "      <td>2017-01-01T12:02:09</td>\n",
              "      <td>eddierodriguez</td>\n",
              "      <td>28.0</td>\n",
              "      <td>76.0</td>\n",
              "      <td>NaN</td>\n",
              "      <td>0.0</td>\n",
              "      <td>update</td>\n",
              "    </tr>\n",
              "    <tr>\n",
              "      <th>4</th>\n",
              "      <td>2017-01-01T12:02:36</td>\n",
              "      <td>kenneth94</td>\n",
              "      <td>29.0</td>\n",
              "      <td>62.0</td>\n",
              "      <td>122f1c6a-403c-2221-6ed1-b5caa08f11e0</td>\n",
              "      <td>NaN</td>\n",
              "      <td>NaN</td>\n",
              "    </tr>\n",
              "    <tr>\n",
              "      <th>...</th>\n",
              "      <td>...</td>\n",
              "      <td>...</td>\n",
              "      <td>...</td>\n",
              "      <td>...</td>\n",
              "      <td>...</td>\n",
              "      <td>...</td>\n",
              "      <td>...</td>\n",
              "    </tr>\n",
              "    <tr>\n",
              "      <th>72018</th>\n",
              "      <td>2017-01-30T07:07:00</td>\n",
              "      <td>jfarmer</td>\n",
              "      <td>22.0</td>\n",
              "      <td>87.0</td>\n",
              "      <td>NaN</td>\n",
              "      <td>0.0</td>\n",
              "      <td>NaN</td>\n",
              "    </tr>\n",
              "    <tr>\n",
              "      <th>72019</th>\n",
              "      <td>2017-01-30T07:07:41</td>\n",
              "      <td>epalmer</td>\n",
              "      <td>NaN</td>\n",
              "      <td>67.0</td>\n",
              "      <td>2721f0a2-182a-eda8-5cb8-312f4854b563</td>\n",
              "      <td>NaN</td>\n",
              "      <td>NaN</td>\n",
              "    </tr>\n",
              "    <tr>\n",
              "      <th>72020</th>\n",
              "      <td>2017-01-30T07:08:09</td>\n",
              "      <td>sandra28</td>\n",
              "      <td>22.0</td>\n",
              "      <td>64.0</td>\n",
              "      <td>NaN</td>\n",
              "      <td>NaN</td>\n",
              "      <td>interval</td>\n",
              "    </tr>\n",
              "    <tr>\n",
              "      <th>72021</th>\n",
              "      <td>2017-01-30T07:08:32</td>\n",
              "      <td>basslisa</td>\n",
              "      <td>NaN</td>\n",
              "      <td>66.0</td>\n",
              "      <td>251c9a6a-5b8b-b401-4934-d1f02ab4fd62</td>\n",
              "      <td>1.0</td>\n",
              "      <td>test</td>\n",
              "    </tr>\n",
              "    <tr>\n",
              "      <th>72022</th>\n",
              "      <td>2017-01-30T07:09:21</td>\n",
              "      <td>tarajo</td>\n",
              "      <td>NaN</td>\n",
              "      <td>NaN</td>\n",
              "      <td>NaN</td>\n",
              "      <td>NaN</td>\n",
              "      <td>NaN</td>\n",
              "    </tr>\n",
              "  </tbody>\n",
              "</table>\n",
              "<p>72023 rows × 7 columns</p>\n",
              "</div>\n",
              "      <button class=\"colab-df-convert\" onclick=\"convertToInteractive('df-67e62c73-92fa-4c57-9502-6747b1f2e7a7')\"\n",
              "              title=\"Convert this dataframe to an interactive table.\"\n",
              "              style=\"display:none;\">\n",
              "        \n",
              "  <svg xmlns=\"http://www.w3.org/2000/svg\" height=\"24px\"viewBox=\"0 0 24 24\"\n",
              "       width=\"24px\">\n",
              "    <path d=\"M0 0h24v24H0V0z\" fill=\"none\"/>\n",
              "    <path d=\"M18.56 5.44l.94 2.06.94-2.06 2.06-.94-2.06-.94-.94-2.06-.94 2.06-2.06.94zm-11 1L8.5 8.5l.94-2.06 2.06-.94-2.06-.94L8.5 2.5l-.94 2.06-2.06.94zm10 10l.94 2.06.94-2.06 2.06-.94-2.06-.94-.94-2.06-.94 2.06-2.06.94z\"/><path d=\"M17.41 7.96l-1.37-1.37c-.4-.4-.92-.59-1.43-.59-.52 0-1.04.2-1.43.59L10.3 9.45l-7.72 7.72c-.78.78-.78 2.05 0 2.83L4 21.41c.39.39.9.59 1.41.59.51 0 1.02-.2 1.41-.59l7.78-7.78 2.81-2.81c.8-.78.8-2.07 0-2.86zM5.41 20L4 18.59l7.72-7.72 1.47 1.35L5.41 20z\"/>\n",
              "  </svg>\n",
              "      </button>\n",
              "      \n",
              "  <style>\n",
              "    .colab-df-container {\n",
              "      display:flex;\n",
              "      flex-wrap:wrap;\n",
              "      gap: 12px;\n",
              "    }\n",
              "\n",
              "    .colab-df-convert {\n",
              "      background-color: #E8F0FE;\n",
              "      border: none;\n",
              "      border-radius: 50%;\n",
              "      cursor: pointer;\n",
              "      display: none;\n",
              "      fill: #1967D2;\n",
              "      height: 32px;\n",
              "      padding: 0 0 0 0;\n",
              "      width: 32px;\n",
              "    }\n",
              "\n",
              "    .colab-df-convert:hover {\n",
              "      background-color: #E2EBFA;\n",
              "      box-shadow: 0px 1px 2px rgba(60, 64, 67, 0.3), 0px 1px 3px 1px rgba(60, 64, 67, 0.15);\n",
              "      fill: #174EA6;\n",
              "    }\n",
              "\n",
              "    [theme=dark] .colab-df-convert {\n",
              "      background-color: #3B4455;\n",
              "      fill: #D2E3FC;\n",
              "    }\n",
              "\n",
              "    [theme=dark] .colab-df-convert:hover {\n",
              "      background-color: #434B5C;\n",
              "      box-shadow: 0px 1px 3px 1px rgba(0, 0, 0, 0.15);\n",
              "      filter: drop-shadow(0px 1px 2px rgba(0, 0, 0, 0.3));\n",
              "      fill: #FFFFFF;\n",
              "    }\n",
              "  </style>\n",
              "\n",
              "      <script>\n",
              "        const buttonEl =\n",
              "          document.querySelector('#df-67e62c73-92fa-4c57-9502-6747b1f2e7a7 button.colab-df-convert');\n",
              "        buttonEl.style.display =\n",
              "          google.colab.kernel.accessAllowed ? 'block' : 'none';\n",
              "\n",
              "        async function convertToInteractive(key) {\n",
              "          const element = document.querySelector('#df-67e62c73-92fa-4c57-9502-6747b1f2e7a7');\n",
              "          const dataTable =\n",
              "            await google.colab.kernel.invokeFunction('convertToInteractive',\n",
              "                                                     [key], {});\n",
              "          if (!dataTable) return;\n",
              "\n",
              "          const docLinkHtml = 'Like what you see? Visit the ' +\n",
              "            '<a target=\"_blank\" href=https://colab.research.google.com/notebooks/data_table.ipynb>data table notebook</a>'\n",
              "            + ' to learn more about interactive tables.';\n",
              "          element.innerHTML = '';\n",
              "          dataTable['output_type'] = 'display_data';\n",
              "          await google.colab.output.renderOutput(dataTable, element);\n",
              "          const docLink = document.createElement('div');\n",
              "          docLink.innerHTML = docLinkHtml;\n",
              "          element.appendChild(docLink);\n",
              "        }\n",
              "      </script>\n",
              "    </div>\n",
              "  </div>\n",
              "  "
            ]
          },
          "metadata": {},
          "execution_count": 2
        }
      ],
      "source": [
        "FILE_PATH = '/content/iot_data.csv'\n",
        "df = pd.read_csv(FILE_PATH)\n",
        "df"
      ]
    },
    {
      "cell_type": "markdown",
      "source": [
        "## Exercises"
      ],
      "metadata": {
        "id": "uIxV5urC90HK"
      }
    },
    {
      "cell_type": "markdown",
      "source": [
        "### Exercise 1 - Detect all the null values (including the note: n/a) and fill note column with meaningful value"
      ],
      "metadata": {
        "id": "9CGhZrX4vH2X"
      }
    },
    {
      "cell_type": "code",
      "execution_count": null,
      "metadata": {
        "id": "bytQmXCUu4bq",
        "colab": {
          "base_uri": "https://localhost:8080/"
        },
        "outputId": "a01f9e13-33bb-4375-ea51-447aa513501e"
      },
      "outputs": [
        {
          "output_type": "execute_result",
          "data": {
            "text/plain": [
              "23915"
            ]
          },
          "metadata": {},
          "execution_count": 4
        }
      ],
      "source": [
        "# Write Code Here\n",
        "df['note'].isnull().sum()"
      ]
    },
    {
      "cell_type": "code",
      "source": [
        "df.head(10)\n",
        "df = pd.get_dummies(df, columns=['note'])"
      ],
      "metadata": {
        "id": "BJydg9IDF-jL"
      },
      "execution_count": null,
      "outputs": []
    },
    {
      "cell_type": "code",
      "source": [
        "df.isnull().sum()"
      ],
      "metadata": {
        "id": "rHmA_RWfGBNm"
      },
      "execution_count": null,
      "outputs": []
    },
    {
      "cell_type": "markdown",
      "metadata": {
        "id": "5bPUb3fcu4bv"
      },
      "source": [
        "### Exercise 2 - Get all columns which have null values and the count of nulls in each column and percentage of nulls"
      ]
    },
    {
      "cell_type": "code",
      "execution_count": null,
      "metadata": {
        "id": "abCuje_-u4bv",
        "colab": {
          "base_uri": "https://localhost:8080/"
        },
        "outputId": "3a549280-78d0-4839-c647-b20cb170e6a3"
      },
      "outputs": [
        {
          "output_type": "execute_result",
          "data": {
            "text/plain": [
              "temperature    22.077670\n",
              "heartrate       0.001388\n",
              "build          22.224845\n",
              "latest         21.962429\n",
              "note           33.204671\n",
              "dtype: float64"
            ]
          },
          "metadata": {},
          "execution_count": 5
        }
      ],
      "source": [
        "df[df.columns[df.isnull().any()]].isnull().sum() * 100 / df.shape[0]"
      ]
    },
    {
      "cell_type": "markdown",
      "metadata": {
        "id": "G3IBEUOWu4bw"
      },
      "source": [
        "### Exercise 3 - Substitute majority values in for missing data in Latest column"
      ]
    },
    {
      "cell_type": "code",
      "execution_count": null,
      "metadata": {
        "id": "dy3avtU_u4bx",
        "colab": {
          "base_uri": "https://localhost:8080/"
        },
        "outputId": "05ffba31-b367-482b-96f8-673c07d275e4"
      },
      "outputs": [
        {
          "output_type": "execute_result",
          "data": {
            "text/plain": [
              "0"
            ]
          },
          "metadata": {},
          "execution_count": 6
        }
      ],
      "source": [
        "new_df = df.fillna({'latest': df['latest'].mode()[0]})\n",
        "new_df['latest'].isnull().sum()"
      ]
    },
    {
      "cell_type": "markdown",
      "metadata": {
        "id": "flXBRnTau4bx"
      },
      "source": [
        "### Exercise 4 - Fill temperature missing values using median fill technique and set timestamp as index"
      ]
    },
    {
      "cell_type": "code",
      "execution_count": null,
      "metadata": {
        "id": "3gWAZWgUu4bx",
        "colab": {
          "base_uri": "https://localhost:8080/",
          "height": 237
        },
        "outputId": "fa2358bd-ba36-40b0-fbfd-37a1b6771fc8"
      },
      "outputs": [
        {
          "output_type": "execute_result",
          "data": {
            "text/plain": [
              "                           username  temperature  heartrate  \\\n",
              "timestamp                                                     \n",
              "2017-01-01T12:00:23    michaelsmith         12.0       67.0   \n",
              "2017-01-01T12:01:09       kharrison          6.0       78.0   \n",
              "2017-01-01T12:01:34       smithadam          5.0       89.0   \n",
              "2017-01-01T12:02:09  eddierodriguez         28.0       76.0   \n",
              "2017-01-01T12:02:36       kenneth94         29.0       62.0   \n",
              "\n",
              "                                                    build  latest      note  \n",
              "timestamp                                                                    \n",
              "2017-01-01T12:00:23  4e6a7805-8faa-2768-6ef6-eb3198b483ac     0.0  interval  \n",
              "2017-01-01T12:01:09  7256b7b0-e502-f576-62ec-ed73533c9c84     0.0      wake  \n",
              "2017-01-01T12:01:34  9226c94b-bb4b-a6c8-8e02-cb42b53e9c90     0.0       NaN  \n",
              "2017-01-01T12:02:09                                   NaN     0.0    update  \n",
              "2017-01-01T12:02:36  122f1c6a-403c-2221-6ed1-b5caa08f11e0     NaN       NaN  "
            ],
            "text/html": [
              "\n",
              "  <div id=\"df-7ccba7bb-1740-40e5-bf42-fec4a6d9bdb4\">\n",
              "    <div class=\"colab-df-container\">\n",
              "      <div>\n",
              "<style scoped>\n",
              "    .dataframe tbody tr th:only-of-type {\n",
              "        vertical-align: middle;\n",
              "    }\n",
              "\n",
              "    .dataframe tbody tr th {\n",
              "        vertical-align: top;\n",
              "    }\n",
              "\n",
              "    .dataframe thead th {\n",
              "        text-align: right;\n",
              "    }\n",
              "</style>\n",
              "<table border=\"1\" class=\"dataframe\">\n",
              "  <thead>\n",
              "    <tr style=\"text-align: right;\">\n",
              "      <th></th>\n",
              "      <th>username</th>\n",
              "      <th>temperature</th>\n",
              "      <th>heartrate</th>\n",
              "      <th>build</th>\n",
              "      <th>latest</th>\n",
              "      <th>note</th>\n",
              "    </tr>\n",
              "    <tr>\n",
              "      <th>timestamp</th>\n",
              "      <th></th>\n",
              "      <th></th>\n",
              "      <th></th>\n",
              "      <th></th>\n",
              "      <th></th>\n",
              "      <th></th>\n",
              "    </tr>\n",
              "  </thead>\n",
              "  <tbody>\n",
              "    <tr>\n",
              "      <th>2017-01-01T12:00:23</th>\n",
              "      <td>michaelsmith</td>\n",
              "      <td>12.0</td>\n",
              "      <td>67.0</td>\n",
              "      <td>4e6a7805-8faa-2768-6ef6-eb3198b483ac</td>\n",
              "      <td>0.0</td>\n",
              "      <td>interval</td>\n",
              "    </tr>\n",
              "    <tr>\n",
              "      <th>2017-01-01T12:01:09</th>\n",
              "      <td>kharrison</td>\n",
              "      <td>6.0</td>\n",
              "      <td>78.0</td>\n",
              "      <td>7256b7b0-e502-f576-62ec-ed73533c9c84</td>\n",
              "      <td>0.0</td>\n",
              "      <td>wake</td>\n",
              "    </tr>\n",
              "    <tr>\n",
              "      <th>2017-01-01T12:01:34</th>\n",
              "      <td>smithadam</td>\n",
              "      <td>5.0</td>\n",
              "      <td>89.0</td>\n",
              "      <td>9226c94b-bb4b-a6c8-8e02-cb42b53e9c90</td>\n",
              "      <td>0.0</td>\n",
              "      <td>NaN</td>\n",
              "    </tr>\n",
              "    <tr>\n",
              "      <th>2017-01-01T12:02:09</th>\n",
              "      <td>eddierodriguez</td>\n",
              "      <td>28.0</td>\n",
              "      <td>76.0</td>\n",
              "      <td>NaN</td>\n",
              "      <td>0.0</td>\n",
              "      <td>update</td>\n",
              "    </tr>\n",
              "    <tr>\n",
              "      <th>2017-01-01T12:02:36</th>\n",
              "      <td>kenneth94</td>\n",
              "      <td>29.0</td>\n",
              "      <td>62.0</td>\n",
              "      <td>122f1c6a-403c-2221-6ed1-b5caa08f11e0</td>\n",
              "      <td>NaN</td>\n",
              "      <td>NaN</td>\n",
              "    </tr>\n",
              "  </tbody>\n",
              "</table>\n",
              "</div>\n",
              "      <button class=\"colab-df-convert\" onclick=\"convertToInteractive('df-7ccba7bb-1740-40e5-bf42-fec4a6d9bdb4')\"\n",
              "              title=\"Convert this dataframe to an interactive table.\"\n",
              "              style=\"display:none;\">\n",
              "        \n",
              "  <svg xmlns=\"http://www.w3.org/2000/svg\" height=\"24px\"viewBox=\"0 0 24 24\"\n",
              "       width=\"24px\">\n",
              "    <path d=\"M0 0h24v24H0V0z\" fill=\"none\"/>\n",
              "    <path d=\"M18.56 5.44l.94 2.06.94-2.06 2.06-.94-2.06-.94-.94-2.06-.94 2.06-2.06.94zm-11 1L8.5 8.5l.94-2.06 2.06-.94-2.06-.94L8.5 2.5l-.94 2.06-2.06.94zm10 10l.94 2.06.94-2.06 2.06-.94-2.06-.94-.94-2.06-.94 2.06-2.06.94z\"/><path d=\"M17.41 7.96l-1.37-1.37c-.4-.4-.92-.59-1.43-.59-.52 0-1.04.2-1.43.59L10.3 9.45l-7.72 7.72c-.78.78-.78 2.05 0 2.83L4 21.41c.39.39.9.59 1.41.59.51 0 1.02-.2 1.41-.59l7.78-7.78 2.81-2.81c.8-.78.8-2.07 0-2.86zM5.41 20L4 18.59l7.72-7.72 1.47 1.35L5.41 20z\"/>\n",
              "  </svg>\n",
              "      </button>\n",
              "      \n",
              "  <style>\n",
              "    .colab-df-container {\n",
              "      display:flex;\n",
              "      flex-wrap:wrap;\n",
              "      gap: 12px;\n",
              "    }\n",
              "\n",
              "    .colab-df-convert {\n",
              "      background-color: #E8F0FE;\n",
              "      border: none;\n",
              "      border-radius: 50%;\n",
              "      cursor: pointer;\n",
              "      display: none;\n",
              "      fill: #1967D2;\n",
              "      height: 32px;\n",
              "      padding: 0 0 0 0;\n",
              "      width: 32px;\n",
              "    }\n",
              "\n",
              "    .colab-df-convert:hover {\n",
              "      background-color: #E2EBFA;\n",
              "      box-shadow: 0px 1px 2px rgba(60, 64, 67, 0.3), 0px 1px 3px 1px rgba(60, 64, 67, 0.15);\n",
              "      fill: #174EA6;\n",
              "    }\n",
              "\n",
              "    [theme=dark] .colab-df-convert {\n",
              "      background-color: #3B4455;\n",
              "      fill: #D2E3FC;\n",
              "    }\n",
              "\n",
              "    [theme=dark] .colab-df-convert:hover {\n",
              "      background-color: #434B5C;\n",
              "      box-shadow: 0px 1px 3px 1px rgba(0, 0, 0, 0.15);\n",
              "      filter: drop-shadow(0px 1px 2px rgba(0, 0, 0, 0.3));\n",
              "      fill: #FFFFFF;\n",
              "    }\n",
              "  </style>\n",
              "\n",
              "      <script>\n",
              "        const buttonEl =\n",
              "          document.querySelector('#df-7ccba7bb-1740-40e5-bf42-fec4a6d9bdb4 button.colab-df-convert');\n",
              "        buttonEl.style.display =\n",
              "          google.colab.kernel.accessAllowed ? 'block' : 'none';\n",
              "\n",
              "        async function convertToInteractive(key) {\n",
              "          const element = document.querySelector('#df-7ccba7bb-1740-40e5-bf42-fec4a6d9bdb4');\n",
              "          const dataTable =\n",
              "            await google.colab.kernel.invokeFunction('convertToInteractive',\n",
              "                                                     [key], {});\n",
              "          if (!dataTable) return;\n",
              "\n",
              "          const docLinkHtml = 'Like what you see? Visit the ' +\n",
              "            '<a target=\"_blank\" href=https://colab.research.google.com/notebooks/data_table.ipynb>data table notebook</a>'\n",
              "            + ' to learn more about interactive tables.';\n",
              "          element.innerHTML = '';\n",
              "          dataTable['output_type'] = 'display_data';\n",
              "          await google.colab.output.renderOutput(dataTable, element);\n",
              "          const docLink = document.createElement('div');\n",
              "          docLink.innerHTML = docLinkHtml;\n",
              "          element.appendChild(docLink);\n",
              "        }\n",
              "      </script>\n",
              "    </div>\n",
              "  </div>\n",
              "  "
            ]
          },
          "metadata": {},
          "execution_count": 7
        }
      ],
      "source": [
        "new_df\n",
        "new_df = df.fillna({'temperature': df['temperature'].median()})\n",
        "new_df.set_index('timestamp', inplace=True)\n",
        "new_df.head()"
      ]
    },
    {
      "cell_type": "markdown",
      "source": [
        "### Exercise 5 - Fill null values in build column using uuid library.\n",
        "**Note: Each null value should be filled with unique value**"
      ],
      "metadata": {
        "id": "qtbFBmEj5CJY"
      }
    },
    {
      "cell_type": "code",
      "source": [
        "import uuid\n",
        "new_df['build'] = [uuid.uuid4() for _ in range(len(new_df.index))]\n",
        "\n",
        "new_df['build'].duplicated().sum()"
      ],
      "metadata": {
        "id": "f8pwsFVg45XJ",
        "colab": {
          "base_uri": "https://localhost:8080/"
        },
        "outputId": "7ff8d449-b23b-44cb-e31a-e911eced2e99"
      },
      "execution_count": null,
      "outputs": [
        {
          "output_type": "execute_result",
          "data": {
            "text/plain": [
              "0"
            ]
          },
          "metadata": {},
          "execution_count": 8
        }
      ]
    },
    {
      "cell_type": "markdown",
      "source": [
        "### Exercise 6 - Remove all rows with nulls"
      ],
      "metadata": {
        "id": "dHpcISfB9cH1"
      }
    },
    {
      "cell_type": "code",
      "source": [
        "new_df.dropna(axis=\"rows\")"
      ],
      "metadata": {
        "id": "4UFrUn1O5snO",
        "colab": {
          "base_uri": "https://localhost:8080/",
          "height": 455
        },
        "outputId": "f13ed5e8-2b68-4684-c01e-a8f201d981f2"
      },
      "execution_count": null,
      "outputs": [
        {
          "output_type": "execute_result",
          "data": {
            "text/plain": [
              "                           username  temperature  heartrate  \\\n",
              "timestamp                                                     \n",
              "2017-01-01T12:00:23    michaelsmith         12.0       67.0   \n",
              "2017-01-01T12:01:09       kharrison          6.0       78.0   \n",
              "2017-01-01T12:02:09  eddierodriguez         28.0       76.0   \n",
              "2017-01-01T12:03:04      bryanttodd         13.0       86.0   \n",
              "2017-01-01T12:05:41    moorejeffrey         25.0       63.0   \n",
              "...                             ...          ...        ...   \n",
              "2017-01-30T07:03:13         nnelson         16.0       68.0   \n",
              "2017-01-30T07:04:34          gnunez         17.0       74.0   \n",
              "2017-01-30T07:04:55          astout         16.0       69.0   \n",
              "2017-01-30T07:05:39       agonzalez         17.0       63.0   \n",
              "2017-01-30T07:08:32        basslisa         17.0       66.0   \n",
              "\n",
              "                                                    build  latest      note  \n",
              "timestamp                                                                    \n",
              "2017-01-01T12:00:23  811a3c4a-487f-4be8-b3e0-244ebb593b90     0.0  interval  \n",
              "2017-01-01T12:01:09  2e7d5de8-fb02-4f24-95e0-fe06f26d6587     0.0      wake  \n",
              "2017-01-01T12:02:09  3ca19d8f-2259-4339-8daf-3e0236c2946d     0.0    update  \n",
              "2017-01-01T12:03:04  48518a15-9e5b-40ba-b79e-472afeb08a78     0.0  interval  \n",
              "2017-01-01T12:05:41  fcf374d9-b70b-4d69-a0f4-0c0dd8ca0ba9     0.0      wake  \n",
              "...                                                   ...     ...       ...  \n",
              "2017-01-30T07:03:13  106f9451-4a06-47ed-b3e9-0eb9cd7202bb     0.0      user  \n",
              "2017-01-30T07:04:34  f45fb923-7ee6-4687-81d4-3ee3edb205ce     0.0  interval  \n",
              "2017-01-30T07:04:55  b2c1b75e-c1ad-4504-8732-6ae63911c6fb     0.0      wake  \n",
              "2017-01-30T07:05:39  7ab3cac0-6e19-4155-9b01-8ebcd2511d83     1.0      test  \n",
              "2017-01-30T07:08:32  fa2988c3-adc2-4caf-9edd-be8f1ead552c     1.0      test  \n",
              "\n",
              "[37509 rows x 6 columns]"
            ],
            "text/html": [
              "\n",
              "  <div id=\"df-52787be7-1427-49f0-ad90-69853eaefac7\">\n",
              "    <div class=\"colab-df-container\">\n",
              "      <div>\n",
              "<style scoped>\n",
              "    .dataframe tbody tr th:only-of-type {\n",
              "        vertical-align: middle;\n",
              "    }\n",
              "\n",
              "    .dataframe tbody tr th {\n",
              "        vertical-align: top;\n",
              "    }\n",
              "\n",
              "    .dataframe thead th {\n",
              "        text-align: right;\n",
              "    }\n",
              "</style>\n",
              "<table border=\"1\" class=\"dataframe\">\n",
              "  <thead>\n",
              "    <tr style=\"text-align: right;\">\n",
              "      <th></th>\n",
              "      <th>username</th>\n",
              "      <th>temperature</th>\n",
              "      <th>heartrate</th>\n",
              "      <th>build</th>\n",
              "      <th>latest</th>\n",
              "      <th>note</th>\n",
              "    </tr>\n",
              "    <tr>\n",
              "      <th>timestamp</th>\n",
              "      <th></th>\n",
              "      <th></th>\n",
              "      <th></th>\n",
              "      <th></th>\n",
              "      <th></th>\n",
              "      <th></th>\n",
              "    </tr>\n",
              "  </thead>\n",
              "  <tbody>\n",
              "    <tr>\n",
              "      <th>2017-01-01T12:00:23</th>\n",
              "      <td>michaelsmith</td>\n",
              "      <td>12.0</td>\n",
              "      <td>67.0</td>\n",
              "      <td>811a3c4a-487f-4be8-b3e0-244ebb593b90</td>\n",
              "      <td>0.0</td>\n",
              "      <td>interval</td>\n",
              "    </tr>\n",
              "    <tr>\n",
              "      <th>2017-01-01T12:01:09</th>\n",
              "      <td>kharrison</td>\n",
              "      <td>6.0</td>\n",
              "      <td>78.0</td>\n",
              "      <td>2e7d5de8-fb02-4f24-95e0-fe06f26d6587</td>\n",
              "      <td>0.0</td>\n",
              "      <td>wake</td>\n",
              "    </tr>\n",
              "    <tr>\n",
              "      <th>2017-01-01T12:02:09</th>\n",
              "      <td>eddierodriguez</td>\n",
              "      <td>28.0</td>\n",
              "      <td>76.0</td>\n",
              "      <td>3ca19d8f-2259-4339-8daf-3e0236c2946d</td>\n",
              "      <td>0.0</td>\n",
              "      <td>update</td>\n",
              "    </tr>\n",
              "    <tr>\n",
              "      <th>2017-01-01T12:03:04</th>\n",
              "      <td>bryanttodd</td>\n",
              "      <td>13.0</td>\n",
              "      <td>86.0</td>\n",
              "      <td>48518a15-9e5b-40ba-b79e-472afeb08a78</td>\n",
              "      <td>0.0</td>\n",
              "      <td>interval</td>\n",
              "    </tr>\n",
              "    <tr>\n",
              "      <th>2017-01-01T12:05:41</th>\n",
              "      <td>moorejeffrey</td>\n",
              "      <td>25.0</td>\n",
              "      <td>63.0</td>\n",
              "      <td>fcf374d9-b70b-4d69-a0f4-0c0dd8ca0ba9</td>\n",
              "      <td>0.0</td>\n",
              "      <td>wake</td>\n",
              "    </tr>\n",
              "    <tr>\n",
              "      <th>...</th>\n",
              "      <td>...</td>\n",
              "      <td>...</td>\n",
              "      <td>...</td>\n",
              "      <td>...</td>\n",
              "      <td>...</td>\n",
              "      <td>...</td>\n",
              "    </tr>\n",
              "    <tr>\n",
              "      <th>2017-01-30T07:03:13</th>\n",
              "      <td>nnelson</td>\n",
              "      <td>16.0</td>\n",
              "      <td>68.0</td>\n",
              "      <td>106f9451-4a06-47ed-b3e9-0eb9cd7202bb</td>\n",
              "      <td>0.0</td>\n",
              "      <td>user</td>\n",
              "    </tr>\n",
              "    <tr>\n",
              "      <th>2017-01-30T07:04:34</th>\n",
              "      <td>gnunez</td>\n",
              "      <td>17.0</td>\n",
              "      <td>74.0</td>\n",
              "      <td>f45fb923-7ee6-4687-81d4-3ee3edb205ce</td>\n",
              "      <td>0.0</td>\n",
              "      <td>interval</td>\n",
              "    </tr>\n",
              "    <tr>\n",
              "      <th>2017-01-30T07:04:55</th>\n",
              "      <td>astout</td>\n",
              "      <td>16.0</td>\n",
              "      <td>69.0</td>\n",
              "      <td>b2c1b75e-c1ad-4504-8732-6ae63911c6fb</td>\n",
              "      <td>0.0</td>\n",
              "      <td>wake</td>\n",
              "    </tr>\n",
              "    <tr>\n",
              "      <th>2017-01-30T07:05:39</th>\n",
              "      <td>agonzalez</td>\n",
              "      <td>17.0</td>\n",
              "      <td>63.0</td>\n",
              "      <td>7ab3cac0-6e19-4155-9b01-8ebcd2511d83</td>\n",
              "      <td>1.0</td>\n",
              "      <td>test</td>\n",
              "    </tr>\n",
              "    <tr>\n",
              "      <th>2017-01-30T07:08:32</th>\n",
              "      <td>basslisa</td>\n",
              "      <td>17.0</td>\n",
              "      <td>66.0</td>\n",
              "      <td>fa2988c3-adc2-4caf-9edd-be8f1ead552c</td>\n",
              "      <td>1.0</td>\n",
              "      <td>test</td>\n",
              "    </tr>\n",
              "  </tbody>\n",
              "</table>\n",
              "<p>37509 rows × 6 columns</p>\n",
              "</div>\n",
              "      <button class=\"colab-df-convert\" onclick=\"convertToInteractive('df-52787be7-1427-49f0-ad90-69853eaefac7')\"\n",
              "              title=\"Convert this dataframe to an interactive table.\"\n",
              "              style=\"display:none;\">\n",
              "        \n",
              "  <svg xmlns=\"http://www.w3.org/2000/svg\" height=\"24px\"viewBox=\"0 0 24 24\"\n",
              "       width=\"24px\">\n",
              "    <path d=\"M0 0h24v24H0V0z\" fill=\"none\"/>\n",
              "    <path d=\"M18.56 5.44l.94 2.06.94-2.06 2.06-.94-2.06-.94-.94-2.06-.94 2.06-2.06.94zm-11 1L8.5 8.5l.94-2.06 2.06-.94-2.06-.94L8.5 2.5l-.94 2.06-2.06.94zm10 10l.94 2.06.94-2.06 2.06-.94-2.06-.94-.94-2.06-.94 2.06-2.06.94z\"/><path d=\"M17.41 7.96l-1.37-1.37c-.4-.4-.92-.59-1.43-.59-.52 0-1.04.2-1.43.59L10.3 9.45l-7.72 7.72c-.78.78-.78 2.05 0 2.83L4 21.41c.39.39.9.59 1.41.59.51 0 1.02-.2 1.41-.59l7.78-7.78 2.81-2.81c.8-.78.8-2.07 0-2.86zM5.41 20L4 18.59l7.72-7.72 1.47 1.35L5.41 20z\"/>\n",
              "  </svg>\n",
              "      </button>\n",
              "      \n",
              "  <style>\n",
              "    .colab-df-container {\n",
              "      display:flex;\n",
              "      flex-wrap:wrap;\n",
              "      gap: 12px;\n",
              "    }\n",
              "\n",
              "    .colab-df-convert {\n",
              "      background-color: #E8F0FE;\n",
              "      border: none;\n",
              "      border-radius: 50%;\n",
              "      cursor: pointer;\n",
              "      display: none;\n",
              "      fill: #1967D2;\n",
              "      height: 32px;\n",
              "      padding: 0 0 0 0;\n",
              "      width: 32px;\n",
              "    }\n",
              "\n",
              "    .colab-df-convert:hover {\n",
              "      background-color: #E2EBFA;\n",
              "      box-shadow: 0px 1px 2px rgba(60, 64, 67, 0.3), 0px 1px 3px 1px rgba(60, 64, 67, 0.15);\n",
              "      fill: #174EA6;\n",
              "    }\n",
              "\n",
              "    [theme=dark] .colab-df-convert {\n",
              "      background-color: #3B4455;\n",
              "      fill: #D2E3FC;\n",
              "    }\n",
              "\n",
              "    [theme=dark] .colab-df-convert:hover {\n",
              "      background-color: #434B5C;\n",
              "      box-shadow: 0px 1px 3px 1px rgba(0, 0, 0, 0.15);\n",
              "      filter: drop-shadow(0px 1px 2px rgba(0, 0, 0, 0.3));\n",
              "      fill: #FFFFFF;\n",
              "    }\n",
              "  </style>\n",
              "\n",
              "      <script>\n",
              "        const buttonEl =\n",
              "          document.querySelector('#df-52787be7-1427-49f0-ad90-69853eaefac7 button.colab-df-convert');\n",
              "        buttonEl.style.display =\n",
              "          google.colab.kernel.accessAllowed ? 'block' : 'none';\n",
              "\n",
              "        async function convertToInteractive(key) {\n",
              "          const element = document.querySelector('#df-52787be7-1427-49f0-ad90-69853eaefac7');\n",
              "          const dataTable =\n",
              "            await google.colab.kernel.invokeFunction('convertToInteractive',\n",
              "                                                     [key], {});\n",
              "          if (!dataTable) return;\n",
              "\n",
              "          const docLinkHtml = 'Like what you see? Visit the ' +\n",
              "            '<a target=\"_blank\" href=https://colab.research.google.com/notebooks/data_table.ipynb>data table notebook</a>'\n",
              "            + ' to learn more about interactive tables.';\n",
              "          element.innerHTML = '';\n",
              "          dataTable['output_type'] = 'display_data';\n",
              "          await google.colab.output.renderOutput(dataTable, element);\n",
              "          const docLink = document.createElement('div');\n",
              "          docLink.innerHTML = docLinkHtml;\n",
              "          element.appendChild(docLink);\n",
              "        }\n",
              "      </script>\n",
              "    </div>\n",
              "  </div>\n",
              "  "
            ]
          },
          "metadata": {},
          "execution_count": 9
        }
      ]
    }
  ],
  "metadata": {
    "kernelspec": {
      "display_name": "Python 3",
      "language": "python",
      "name": "python3"
    },
    "language_info": {
      "codemirror_mode": {
        "name": "ipython",
        "version": 3
      },
      "file_extension": ".py",
      "mimetype": "text/x-python",
      "name": "python",
      "nbconvert_exporter": "python",
      "pygments_lexer": "ipython3",
      "version": "3.7.4"
    },
    "colab": {
      "name": "Guided_Machine_Learning_Assignment_DataPreProcessing.ipynb",
      "provenance": [],
      "collapsed_sections": [
        "uIxV5urC90HK",
        "9CGhZrX4vH2X",
        "5bPUb3fcu4bv",
        "G3IBEUOWu4bw",
        "flXBRnTau4bx",
        "qtbFBmEj5CJY",
        "dHpcISfB9cH1"
      ]
    }
  },
  "nbformat": 4,
  "nbformat_minor": 0
}