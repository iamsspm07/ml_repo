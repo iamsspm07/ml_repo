{
  "nbformat": 4,
  "nbformat_minor": 0,
  "metadata": {
    "colab": {
      "name": "Home_Assignment_Machine_Learning_Numpy.ipynb",
      "provenance": [],
      "collapsed_sections": []
    },
    "kernelspec": {
      "name": "python3",
      "display_name": "Python 3"
    }
  },
  "cells": [
    {
      "cell_type": "markdown",
      "source": [
        "## **Exercises**"
      ],
      "metadata": {
        "id": "ic-S03RATomk"
      }
    },
    {
      "cell_type": "markdown",
      "metadata": {
        "id": "qwgeAaDqSOm-"
      },
      "source": [
        "#### Exercise 1: Import the numpy package under the name np"
      ]
    },
    {
      "cell_type": "code",
      "metadata": {
        "id": "J44YqJ44QtlU"
      },
      "source": [
        "import numpy as np"
      ],
      "execution_count": null,
      "outputs": []
    },
    {
      "cell_type": "markdown",
      "metadata": {
        "id": "_nZ3clmuSVlg"
      },
      "source": [
        "#### Exercise 2: Given an array *X*. Calculate sine, cosine, and tangent of *X*, element-wise.\n",
        "\n",
        "X = np.array([1, 45, 60, 90])"
      ]
    },
    {
      "cell_type": "code",
      "metadata": {
        "id": "A5x5wgJsQ2br",
        "colab": {
          "base_uri": "https://localhost:8080/"
        },
        "outputId": "e43cc067-9c79-4337-e4b1-c0113ec21361"
      },
      "source": [
        "X = np.array([1, 45, 60, 90])\n",
        "\n",
        "sin = np.sin(X)\n",
        "cos = np.cos(X)\n",
        "tan = np.tan(X)\n",
        "\n",
        "print(sin)\n",
        "print(cos)\n",
        "print(tan)\n"
      ],
      "execution_count": null,
      "outputs": [
        {
          "output_type": "stream",
          "name": "stdout",
          "text": [
            "[ 0.84147098  0.85090352 -0.30481062  0.89399666]\n",
            "[ 0.54030231  0.52532199 -0.95241298 -0.44807362]\n",
            "[ 1.55740772  1.61977519  0.32004039 -1.99520041]\n"
          ]
        }
      ]
    },
    {
      "cell_type": "markdown",
      "metadata": {
        "id": "GMvtbx9iTISy"
      },
      "source": [
        "#### Exercise 3: Given an array *X*. Convert angles from radians to degrees.\n",
        "\n",
        "X = np.array([-np.pi, -np.pi/2, np.pi/2, np.pi])"
      ]
    },
    {
      "cell_type": "code",
      "metadata": {
        "id": "NJqUZmj6S_t1",
        "colab": {
          "base_uri": "https://localhost:8080/"
        },
        "outputId": "7cd12b69-7c5c-4b7d-d42a-8be205c57c58"
      },
      "source": [
        "X = np.array([-np.pi, -np.pi/2, np.pi/2, np.pi])\n",
        "\n",
        "degr = np.degrees(X)\n",
        "\n",
        "print(degr)"
      ],
      "execution_count": null,
      "outputs": [
        {
          "output_type": "stream",
          "name": "stdout",
          "text": [
            "[-180.  -90.   90.  180.]\n"
          ]
        }
      ]
    },
    {
      "cell_type": "markdown",
      "metadata": {
        "id": "8hFPkopqTVkp"
      },
      "source": [
        "#### Exercise 4: Given an arrya *X*. Convert angles from degrees to radians.\n",
        "\n",
        "X = np.array([-180.,  -90.,   90.,  180.])"
      ]
    },
    {
      "cell_type": "code",
      "metadata": {
        "id": "1GcvmHC7THVM",
        "colab": {
          "base_uri": "https://localhost:8080/"
        },
        "outputId": "18968484-f5b2-40a6-e9b5-9de772b481ee"
      },
      "source": [
        "X = np.array([-180., -90., 90., 180.])\n",
        "\n",
        "radi = np.radians(X)\n",
        "\n",
        "print(radi)"
      ],
      "execution_count": null,
      "outputs": [
        {
          "output_type": "stream",
          "name": "stdout",
          "text": [
            "[-3.14159265 -1.57079633  1.57079633  3.14159265]\n"
          ]
        }
      ]
    },
    {
      "cell_type": "markdown",
      "metadata": {
        "id": "xppXPZU2Tkm-"
      },
      "source": [
        "#### Exercise 5: Given an array *X*. Calculate hyperbolic sine, hyperbolic cosine, and hyperbolic tangent of *X*, element-wise. \n",
        "\n",
        "X = np.array([-1., 0, 1.])"
      ]
    },
    {
      "cell_type": "code",
      "metadata": {
        "id": "IMcSv22uTgms",
        "colab": {
          "base_uri": "https://localhost:8080/"
        },
        "outputId": "7b461d4b-f54f-45bb-8d7a-eedc98d84b24"
      },
      "source": [
        "X = np.array([-1., 0, 1.])\n",
        "\n",
        "hyp_sin = np.sinh(X)\n",
        "hyp_cos = np.cosh(X)\n",
        "hyp_tan = np.tanh(X)\n",
        "\n",
        "print(hyp_sin)\n",
        "print(hyp_cos)\n",
        "print(hyp_tan)"
      ],
      "execution_count": null,
      "outputs": [
        {
          "output_type": "stream",
          "name": "stdout",
          "text": [
            "[-1.17520119  0.          1.17520119]\n",
            "[1.54308063 1.         1.54308063]\n",
            "[-0.76159416  0.          0.76159416]\n"
          ]
        }
      ]
    },
    {
      "cell_type": "markdown",
      "metadata": {
        "id": "ahRXCZSxT0kU"
      },
      "source": [
        "#### Exercise 6: Given an array *X*. Calculate the round, ceil, floor of *X*, element-wise\n",
        "\n",
        "X = np.array([4.1, 2.5, 44.5, 25.9, -1.1, -9.5, -6.9])"
      ]
    },
    {
      "cell_type": "code",
      "metadata": {
        "id": "p83dwIEPT7Ja",
        "colab": {
          "base_uri": "https://localhost:8080/"
        },
        "outputId": "b76de73f-5be2-4b53-b6d4-5f37517a1c24"
      },
      "source": [
        "X = np.array([4.1, 2.5, 44.5, 25.9, -1.1, -9.5, -6.9])\n",
        "\n",
        "round = np.round(X)\n",
        "ceil = np.ceil(X)\n",
        "floor = np.floor(X)\n",
        "\n",
        "print(round)\n",
        "print(ceil)\n",
        "print(floor)"
      ],
      "execution_count": null,
      "outputs": [
        {
          "output_type": "stream",
          "name": "stdout",
          "text": [
            "[  4.   2.  44.  26.  -1. -10.  -7.]\n",
            "[ 5.  3. 45. 26. -1. -9. -6.]\n",
            "[  4.   2.  44.  25.  -2. -10.  -7.]\n"
          ]
        }
      ]
    },
    {
      "cell_type": "markdown",
      "metadata": {
        "id": "KzcrhGeFUmVE"
      },
      "source": [
        "#### Exercise 7: Given an array *X*. Calculate the difference between neighboring elements, element-wise.\n",
        "\n",
        "X = np.array([11, 13, 23, 45, 77])"
      ]
    },
    {
      "cell_type": "code",
      "metadata": {
        "id": "bSQpJ5IQUSf0",
        "colab": {
          "base_uri": "https://localhost:8080/"
        },
        "outputId": "07982630-7e29-4fd4-9a92-d1a0dc1fffce"
      },
      "source": [
        "X = np.array([11, 13, 23, 45, 77])\n",
        "\n",
        "neigh = np.diff(X)\n",
        "\n",
        "print(neigh)"
      ],
      "execution_count": null,
      "outputs": [
        {
          "output_type": "stream",
          "name": "stdout",
          "text": [
            "[ 2 10 22 32]\n"
          ]
        }
      ]
    },
    {
      "cell_type": "markdown",
      "metadata": {
        "id": "rmSYTiqyVB2x"
      },
      "source": [
        "#### Exercise 8: Given two arrays *X* and *Y*. Find the cross product.\n",
        "\n",
        "X = np.array([1, 2, 3])\n",
        "\n",
        "Y = np.array([4, 5, 6])"
      ]
    },
    {
      "cell_type": "code",
      "metadata": {
        "id": "JqHukc33U3L2",
        "colab": {
          "base_uri": "https://localhost:8080/"
        },
        "outputId": "08aa3611-bc16-4c22-b2c6-be50cc7298c1"
      },
      "source": [
        "X = np.array([1, 2, 3])\n",
        "Y = np.array([4, 5, 6])\n",
        "\n",
        "cross = np.cross(X, Y)\n",
        "\n",
        "print(cross)"
      ],
      "execution_count": null,
      "outputs": [
        {
          "output_type": "stream",
          "name": "stdout",
          "text": [
            "[-3  6 -3]\n"
          ]
        }
      ]
    },
    {
      "cell_type": "markdown",
      "metadata": {
        "id": "eg3qCawdV_1-"
      },
      "source": [
        "#### Exercise 9: Given two arrays *X* and *Y*. Find the dot product.\n",
        "\n",
        "X = np.array([1, 2, 3])\n",
        "\n",
        "Y = np.array([4, 5, 6])"
      ]
    },
    {
      "cell_type": "code",
      "metadata": {
        "id": "S2TgQkEyVa3z",
        "colab": {
          "base_uri": "https://localhost:8080/"
        },
        "outputId": "db183f88-409a-4d3e-853d-8ea6541763d3"
      },
      "source": [
        "X = np.array([1, 2, 3])\n",
        "Y = np.array([4, 5, 6])\n",
        "\n",
        "dot = np.dot(X, Y)\n",
        "\n",
        "print(dot)"
      ],
      "execution_count": null,
      "outputs": [
        {
          "output_type": "stream",
          "name": "stdout",
          "text": [
            "32\n"
          ]
        }
      ]
    },
    {
      "cell_type": "markdown",
      "metadata": {
        "id": "BWPtC69NWUbA"
      },
      "source": [
        "#### Exercise 10: Given two arrays *X* and *Y*. Divide *X* by *Y* element-wise using divide, true_divide, floor_divide functions.\n",
        "\n",
        "X = np.array([1, 2, 3])\n",
        "\n",
        "Y = np.array([4, 5, 6])"
      ]
    },
    {
      "cell_type": "code",
      "metadata": {
        "id": "YI7fbbJ4WspO",
        "colab": {
          "base_uri": "https://localhost:8080/"
        },
        "outputId": "7021b598-9418-476c-bb18-a9240e3cce89"
      },
      "source": [
        "X = np.array([1, 2, 3])\n",
        "Y = np.array([4, 5, 6])\n",
        "\n",
        "div = np.divide(X, Y)\n",
        "t_div = np.true_divide(X, Y)\n",
        "f_div = np.floor_divide(X, Y)\n",
        "\n",
        "print(div)\n",
        "print(t_div)\n",
        "print(f_div)"
      ],
      "execution_count": null,
      "outputs": [
        {
          "output_type": "stream",
          "name": "stdout",
          "text": [
            "[0.25 0.4  0.5 ]\n",
            "[0.25 0.4  0.5 ]\n",
            "[0 0 0]\n"
          ]
        }
      ]
    },
    {
      "cell_type": "markdown",
      "metadata": {
        "id": "GnIn_YWtW0-r"
      },
      "source": [
        "#### Exercise 11: Given two arrays *X* and *Y*. Compute $X^Y$, element-wise.\n",
        "\n",
        "X = np.array([1, 2, 3])\n",
        "\n",
        "Y = np.array([4, 5, 6])"
      ]
    },
    {
      "cell_type": "code",
      "metadata": {
        "id": "rtxR3cJPWury",
        "colab": {
          "base_uri": "https://localhost:8080/"
        },
        "outputId": "bf8d5755-d012-4653-cf61-02344c038cbb"
      },
      "source": [
        "X = np.array([1, 2, 3])\n",
        "Y = np.array([4, 5, 6])\n",
        "\n",
        "com = np.power(X, Y)\n",
        "\n",
        "print(com)"
      ],
      "execution_count": null,
      "outputs": [
        {
          "output_type": "stream",
          "name": "stdout",
          "text": [
            "[  1  32 729]\n"
          ]
        }
      ]
    },
    {
      "cell_type": "markdown",
      "metadata": {
        "id": "HCV1xXXSXLUw"
      },
      "source": [
        "#### Exercise 12: Given one array *X* and Y = 3. Compute the remainder of X / Y element-wise using remainder and fmod functions.\n",
        "\n",
        "\n",
        "X = np.array([1, 2, 3])"
      ]
    },
    {
      "cell_type": "code",
      "metadata": {
        "id": "MYHnb66PXd0z",
        "colab": {
          "base_uri": "https://localhost:8080/"
        },
        "outputId": "1ce64359-0225-407c-b2dd-bd0fc771d57a"
      },
      "source": [
        "X = np.array([1, 2, 3])\n",
        "Y = 3\n",
        "\n",
        "comp = np.remainder(X, Y)\n",
        "comp1 = np.fmod(X, Y)\n",
        "\n",
        "print(comp)\n",
        "print(comp1)"
      ],
      "execution_count": null,
      "outputs": [
        {
          "output_type": "stream",
          "name": "stdout",
          "text": [
            "[1 2 0]\n",
            "[1 2 0]\n"
          ]
        }
      ]
    },
    {
      "cell_type": "markdown",
      "metadata": {
        "id": "_8iviSU_XvzU"
      },
      "source": [
        "#### Exercise 13:  Given an array *X*. If an element of *X* is smaller than 5, replace it with 4. And if an element of *X* is bigger than 9, replace it with 8.\n",
        "\n",
        "X = np.array([8, 4, 22, 3, 66, 12, 1, 5])"
      ]
    },
    {
      "cell_type": "code",
      "metadata": {
        "id": "aWVTyhUOXpAv",
        "colab": {
          "base_uri": "https://localhost:8080/"
        },
        "outputId": "0028777f-0797-4377-95a3-efee2a6a2507"
      },
      "source": [
        "X = np.array([8, 4, 22, 3, 66, 12, 1, 5])\n",
        "X1 = np.array([8, 4, 22, 3, 66, 12, 1, 5])\n",
        "\n",
        "X[X < 5] = 4\n",
        "X[X > 9] = 8\n",
        "\n",
        "print(X1)\n",
        "print(X)"
      ],
      "execution_count": null,
      "outputs": [
        {
          "output_type": "stream",
          "name": "stdout",
          "text": [
            "[ 8  4 22  3 66 12  1  5]\n",
            "[8 4 8 4 8 8 4 5]\n"
          ]
        }
      ]
    },
    {
      "cell_type": "markdown",
      "metadata": {
        "id": "S9I2YYFfg1es"
      },
      "source": [
        "#### Exercise 14: Given an array *X*. Compute the square of *X*, element-wise.\n",
        "\n",
        "X = np.array([2, 3, 4, 5, 6])"
      ]
    },
    {
      "cell_type": "code",
      "metadata": {
        "id": "zmUOYKqVg5tt",
        "colab": {
          "base_uri": "https://localhost:8080/"
        },
        "outputId": "01471db4-a203-41e7-e002-bbe1ff810a02"
      },
      "source": [
        "X = np.array([2, 3, 4, 5, 6])\n",
        "\n",
        "squ = np.square(X)\n",
        "\n",
        "print(squ)"
      ],
      "execution_count": null,
      "outputs": [
        {
          "output_type": "stream",
          "name": "stdout",
          "text": [
            "[ 4  9 16 25 36]\n"
          ]
        }
      ]
    },
    {
      "cell_type": "markdown",
      "metadata": {
        "id": "cUc_0e5ehFMl"
      },
      "source": [
        "#### Exercise 15: Given an array *X*. Compute the absolute value of *X*.\n",
        "\n",
        "X = np.array([[-44, 3], [4, -3]])"
      ]
    },
    {
      "cell_type": "code",
      "metadata": {
        "id": "I5p5ILAShAKk",
        "colab": {
          "base_uri": "https://localhost:8080/"
        },
        "outputId": "4b44b143-0f68-4cf8-f36c-518b5e53816c"
      },
      "source": [
        "X = np.array([[-44, 3], [4, -3]])\n",
        "\n",
        "abs = np.absolute(X)\n",
        "\n",
        "print(abs)"
      ],
      "execution_count": null,
      "outputs": [
        {
          "output_type": "stream",
          "name": "stdout",
          "text": [
            "[[44  3]\n",
            " [ 4  3]]\n"
          ]
        }
      ]
    },
    {
      "cell_type": "markdown",
      "metadata": {
        "id": "ozZ2u2G6hbDu"
      },
      "source": [
        "#### Exercise 16: Given an array *X*. Compute an element-wise indication of the sign of *X*, element-wise.\n",
        "\n",
        "X = np.array([1, 3, 0, -1, -3])"
      ]
    },
    {
      "cell_type": "code",
      "metadata": {
        "id": "dmKpDGslh5fF",
        "colab": {
          "base_uri": "https://localhost:8080/"
        },
        "outputId": "3bcdcb4e-29de-42ff-813c-6153848cfff8"
      },
      "source": [
        "X = np.array([1, 3, 0, -1, -3])\n",
        "\n",
        "indi = np.sign(X)\n",
        "\n",
        "print(indi)"
      ],
      "execution_count": null,
      "outputs": [
        {
          "output_type": "stream",
          "name": "stdout",
          "text": [
            "[ 1  1  0 -1 -1]\n"
          ]
        }
      ]
    },
    {
      "cell_type": "markdown",
      "metadata": {
        "id": "FBB-R10ch9sj"
      },
      "source": [
        "#### Exercise 17: Create an array of the given shape and populate it with random samples from a uniform distribution over [0, 1)."
      ]
    },
    {
      "cell_type": "code",
      "metadata": {
        "id": "x_p6iY0giKov",
        "colab": {
          "base_uri": "https://localhost:8080/"
        },
        "outputId": "373d7bdd-2f2f-4b04-8d0c-7b82030f7a1d"
      },
      "source": [
        "np.random.randn(0,1)"
      ],
      "execution_count": null,
      "outputs": [
        {
          "output_type": "execute_result",
          "data": {
            "text/plain": [
              "array([], shape=(0, 1), dtype=float64)"
            ]
          },
          "metadata": {},
          "execution_count": 87
        }
      ]
    },
    {
      "cell_type": "markdown",
      "metadata": {
        "id": "tpGK4dgBiU1s"
      },
      "source": [
        "#### Exercise 18: Given an array *gaussian*. How do you get the number of dimensions of the array?\n",
        "\n",
        "\n",
        "gaussian = np.random.randn(2 * 3 * 4).reshape((2, 3, 4))"
      ]
    },
    {
      "cell_type": "code",
      "metadata": {
        "id": "KW7bBw22iML2",
        "colab": {
          "base_uri": "https://localhost:8080/"
        },
        "outputId": "d97b1aab-078d-436d-d53c-b1364116c3af"
      },
      "source": [
        "gaussian = np.random.randn(2 * 3 * 4).reshape((2, 3, 4))\n",
        "\n",
        "print(gaussian.ndim)"
      ],
      "execution_count": null,
      "outputs": [
        {
          "output_type": "stream",
          "name": "stdout",
          "text": [
            "3\n"
          ]
        }
      ]
    },
    {
      "cell_type": "markdown",
      "metadata": {
        "id": "3C-hc7xii-DN"
      },
      "source": [
        "#### Exercise 19: Given an array *gaussian*. How do you get the shape of an array?\n",
        "\n",
        "\n",
        "gaussian = np.random.randn(2 * 3 * 4).reshape((2, 3, 4))"
      ]
    },
    {
      "cell_type": "code",
      "metadata": {
        "id": "GxN8bsmFi53f",
        "colab": {
          "base_uri": "https://localhost:8080/"
        },
        "outputId": "3a2aa5c2-bb42-4f33-c5e8-28f4fef12efb"
      },
      "source": [
        "gaussian = np.random.randn(2 * 3 * 4).reshape((2, 3, 4))\n",
        "\n",
        "print(gaussian.shape)"
      ],
      "execution_count": null,
      "outputs": [
        {
          "output_type": "stream",
          "name": "stdout",
          "text": [
            "(2, 3, 4)\n"
          ]
        }
      ]
    },
    {
      "cell_type": "markdown",
      "metadata": {
        "id": "GBA8PxrmjF-3"
      },
      "source": [
        "#### Exercise 20: Given an array *gaussian*. How do you get the total number of elements in the array?\n",
        "\n",
        "\n",
        "gaussian = np.random.randn(2 * 3 * 4).reshape((2, 3, 4))"
      ]
    },
    {
      "cell_type": "code",
      "metadata": {
        "id": "PbpYir4xjEr6",
        "colab": {
          "base_uri": "https://localhost:8080/"
        },
        "outputId": "d8cb3cb7-de15-49bb-ec8a-cb924a8cb788"
      },
      "source": [
        "gaussian = np.random.randn(2 * 3 * 4).reshape((2, 3, 4))\n",
        "\n",
        "print(gaussian.size)"
      ],
      "execution_count": null,
      "outputs": [
        {
          "output_type": "stream",
          "name": "stdout",
          "text": [
            "24\n"
          ]
        }
      ]
    },
    {
      "cell_type": "markdown",
      "metadata": {
        "id": "t9ciOCrRjP57"
      },
      "source": [
        "#### Exercise 21: Given an array *gaussian*. How do you get memory consumed by each item in the array?\n",
        "\n",
        "\n",
        "gaussian = np.random.randn(2 * 3 * 4).reshape((2, 3, 4))"
      ]
    },
    {
      "cell_type": "code",
      "metadata": {
        "id": "iWK0KJNpjMxI",
        "colab": {
          "base_uri": "https://localhost:8080/"
        },
        "outputId": "9ee3bcde-ad5f-483a-d22a-318aa2697c2d"
      },
      "source": [
        "gaussian = np.random.randn(2 * 3 * 4).reshape((2, 3, 4))\n",
        "\n",
        "print(gaussian.itemsize) # Each Item Consumed\n",
        "print(gaussian.size * gaussian.itemsize) # Total Consumed"
      ],
      "execution_count": null,
      "outputs": [
        {
          "output_type": "stream",
          "name": "stdout",
          "text": [
            "8\n",
            "192\n"
          ]
        }
      ]
    },
    {
      "cell_type": "markdown",
      "metadata": {
        "id": "orakzs2UjXrL"
      },
      "source": [
        "#### Exercise 22: Given an array *twenty*. How do you access first two rows and three columns\n",
        "\n",
        "twenty = (np.arange(4 * 5)).reshape(4, 5)"
      ]
    },
    {
      "cell_type": "code",
      "metadata": {
        "id": "-Hv2d-AZjWw2",
        "colab": {
          "base_uri": "https://localhost:8080/"
        },
        "outputId": "bbe5b523-d274-43ba-de7d-ec80980bebdd"
      },
      "source": [
        "twenty = (np.arange(4 * 5)).reshape(4, 5)\n",
        "\n",
        "row_colm = twenty[0:2, 0:3]\n",
        "\n",
        "print(row_colm)"
      ],
      "execution_count": null,
      "outputs": [
        {
          "output_type": "stream",
          "name": "stdout",
          "text": [
            "[[0 1 2]\n",
            " [5 6 7]]\n"
          ]
        }
      ]
    },
    {
      "cell_type": "markdown",
      "metadata": {
        "id": "MTiZNOygkDpz"
      },
      "source": [
        "#### Exercise 23: Given an array *twenty*. How do you reverse the order of elements along columns?\n",
        "\n",
        "\n",
        "twenty = (np.arange(4 * 5)).reshape(4, 5) "
      ]
    },
    {
      "cell_type": "code",
      "metadata": {
        "id": "gR9tbU3DkCiK",
        "colab": {
          "base_uri": "https://localhost:8080/"
        },
        "outputId": "6afeeeda-c41e-41e0-c4a1-b750274c6ad0"
      },
      "source": [
        "twenty = (np.arange(4 * 5)).reshape(4, 5)\n",
        "\n",
        "col = np.flip(twenty, 1)\n",
        "\n",
        "print(col)"
      ],
      "execution_count": null,
      "outputs": [
        {
          "output_type": "stream",
          "name": "stdout",
          "text": [
            "[[ 4  3  2  1  0]\n",
            " [ 9  8  7  6  5]\n",
            " [14 13 12 11 10]\n",
            " [19 18 17 16 15]]\n"
          ]
        }
      ]
    },
    {
      "cell_type": "markdown",
      "metadata": {
        "id": "EDfAt4wwkQ3j"
      },
      "source": [
        "#### Exercise 24: Given an array *twenty*. How do you reverse the order of elements along rows?\n",
        "\n",
        "\n",
        "twenty = (np.arange(4 * 5)).reshape(4, 5) "
      ]
    },
    {
      "cell_type": "code",
      "metadata": {
        "id": "FZraxHTWkP_7",
        "colab": {
          "base_uri": "https://localhost:8080/"
        },
        "outputId": "72ded7a1-6446-4a16-cf6f-881c2fbe8be6"
      },
      "source": [
        "twenty = (np.arange(4 * 5)).reshape(4, 5)\n",
        "\n",
        "col1 = np.flip(twenty, 0)\n",
        "\n",
        "print(col1)"
      ],
      "execution_count": null,
      "outputs": [
        {
          "output_type": "stream",
          "name": "stdout",
          "text": [
            "[[15 16 17 18 19]\n",
            " [10 11 12 13 14]\n",
            " [ 5  6  7  8  9]\n",
            " [ 0  1  2  3  4]]\n"
          ]
        }
      ]
    },
    {
      "cell_type": "markdown",
      "metadata": {
        "id": "6EjVbcyQknaZ"
      },
      "source": [
        "#### Exercise 25: Given an array *twenty*. How do you shuffle the array along axis - 0\n",
        "\n",
        "\n",
        "twenty = (np.arange(4 * 5)).reshape(4, 5) "
      ]
    },
    {
      "cell_type": "code",
      "metadata": {
        "id": "uMvozBGJkbWd",
        "colab": {
          "base_uri": "https://localhost:8080/"
        },
        "outputId": "39adaccb-5dd3-4ee0-b5d7-38f491630614"
      },
      "source": [
        "twenty = (np.arange(4 * 5)).reshape(4, 5)\n",
        "\n",
        "np.random.shuffle(twenty[0])\n",
        "\n",
        "twenty"
      ],
      "execution_count": null,
      "outputs": [
        {
          "output_type": "execute_result",
          "data": {
            "text/plain": [
              "array([[ 4,  1,  2,  3,  0],\n",
              "       [ 5,  6,  7,  8,  9],\n",
              "       [10, 11, 12, 13, 14],\n",
              "       [15, 16, 17, 18, 19]])"
            ]
          },
          "metadata": {},
          "execution_count": 95
        }
      ]
    }
  ]
}